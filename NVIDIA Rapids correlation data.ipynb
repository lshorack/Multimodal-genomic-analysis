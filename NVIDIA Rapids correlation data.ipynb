{
 "cells": [
  {
   "cell_type": "markdown",
   "metadata": {
    "id": "F2SbeYLUkZB2"
   },
   "source": [
    "# NVIDIA Rapids correlation Analysis\n",
    "NVIDA Rapids' cuDF is a pandas like library that is optimized for GPUs based on CUDA."
   ]
  },
  {
   "cell_type": "markdown",
   "metadata": {},
   "source": [
    "This series of steps to setup NVIDIA Rapids in google colab can be found [here](https://www.analyticsvidhya.com/blog/2021/06/running-pandas-on-gpu-taking-it-to-the-moon/#:~:text=Pandas%20can%20handle%20a%20significant%20amount%20of%20data,a%20huge%20amount%20of%20data%20on%20the%20fly.)."
   ]
  },
  {
   "cell_type": "markdown",
   "metadata": {
    "id": "R3GLGmEvirhW"
   },
   "source": [
    "## Install NVIDA Rapids"
   ]
  },
  {
   "cell_type": "code",
   "execution_count": 1,
   "metadata": {
    "colab": {
     "base_uri": "https://localhost:8080/"
    },
    "executionInfo": {
     "elapsed": 5,
     "status": "ok",
     "timestamp": 1665668680757,
     "user": {
      "displayName": "Landon Shorack",
      "userId": "08420491670803319518"
     },
     "user_tz": 420
    },
    "id": "f4kPhKZqrM11",
    "outputId": "5f1ef3fc-e239-4a8a-bf8d-1050f93ba1da"
   },
   "outputs": [
    {
     "name": "stdout",
     "output_type": "stream",
     "text": [
      "Thu Oct 13 13:44:39 2022       \n",
      "+-----------------------------------------------------------------------------+\n",
      "| NVIDIA-SMI 460.32.03    Driver Version: 460.32.03    CUDA Version: 11.2     |\n",
      "|-------------------------------+----------------------+----------------------+\n",
      "| GPU  Name        Persistence-M| Bus-Id        Disp.A | Volatile Uncorr. ECC |\n",
      "| Fan  Temp  Perf  Pwr:Usage/Cap|         Memory-Usage | GPU-Util  Compute M. |\n",
      "|                               |                      |               MIG M. |\n",
      "|===============================+======================+======================|\n",
      "|   0  Tesla T4            Off  | 00000000:00:04.0 Off |                    0 |\n",
      "| N/A   39C    P8     9W /  70W |      0MiB / 15109MiB |      0%      Default |\n",
      "|                               |                      |                  N/A |\n",
      "+-------------------------------+----------------------+----------------------+\n",
      "                                                                               \n",
      "+-----------------------------------------------------------------------------+\n",
      "| Processes:                                                                  |\n",
      "|  GPU   GI   CI        PID   Type   Process name                  GPU Memory |\n",
      "|        ID   ID                                                   Usage      |\n",
      "|=============================================================================|\n",
      "|  No running processes found                                                 |\n",
      "+-----------------------------------------------------------------------------+\n"
     ]
    }
   ],
   "source": [
    "! nvidia-smi"
   ]
  },
  {
   "cell_type": "code",
   "execution_count": 2,
   "metadata": {
    "colab": {
     "base_uri": "https://localhost:8080/"
    },
    "executionInfo": {
     "elapsed": 4700,
     "status": "ok",
     "timestamp": 1665668688787,
     "user": {
      "displayName": "Landon Shorack",
      "userId": "08420491670803319518"
     },
     "user_tz": 420
    },
    "id": "w-W0vcJDkpG3",
    "outputId": "d0d686f1-2fa0-42e9-eb2e-315f7fd33e87"
   },
   "outputs": [
    {
     "name": "stdout",
     "output_type": "stream",
     "text": [
      "Looking in indexes: https://pypi.org/simple, https://us-python.pkg.dev/colab-wheels/public/simple/\n",
      "Collecting pynvml\n",
      "  Downloading pynvml-11.4.1-py3-none-any.whl (46 kB)\n",
      "\u001b[K     |████████████████████████████████| 46 kB 2.2 MB/s \n",
      "\u001b[?25hInstalling collected packages: pynvml\n",
      "Successfully installed pynvml-11.4.1\n"
     ]
    }
   ],
   "source": [
    "!pip install pynvml"
   ]
  },
  {
   "cell_type": "code",
   "execution_count": 4,
   "metadata": {
    "colab": {
     "base_uri": "https://localhost:8080/"
    },
    "executionInfo": {
     "elapsed": 2806,
     "status": "ok",
     "timestamp": 1665668713051,
     "user": {
      "displayName": "Landon Shorack",
      "userId": "08420491670803319518"
     },
     "user_tz": 420
    },
    "id": "3Jeh6EJBaBkv",
    "outputId": "a3b6b801-ce35-4160-e432-5bed62f2612c"
   },
   "outputs": [
    {
     "name": "stdout",
     "output_type": "stream",
     "text": [
      "Cloning into 'rapidsai-csp-utils'...\n",
      "remote: Enumerating objects: 300, done.\u001b[K\n",
      "remote: Counting objects: 100% (129/129), done.\u001b[K\n",
      "remote: Compressing objects: 100% (74/74), done.\u001b[K\n",
      "remote: Total 300 (delta 74), reused 99 (delta 55), pack-reused 171\u001b[K\n",
      "Receiving objects: 100% (300/300), 87.58 KiB | 985.00 KiB/s, done.\n",
      "Resolving deltas: 100% (136/136), done.\n",
      "***********************************************************************\n",
      "Woo! Your instance has the right kind of GPU, a Tesla T4!\n",
      "***********************************************************************\n",
      "\n"
     ]
    }
   ],
   "source": [
    "# This get the RAPIDS-Colab install files and test check your GPU.  Run this and the next cell only.\n",
    "# Please read the output of this cell.  If your Colab Instance is not RAPIDS compatible, it will warn you and give you remediation steps.\n",
    "!git clone https://github.com/rapidsai/rapidsai-csp-utils.git\n",
    "!python rapidsai-csp-utils/colab/env-check.py"
   ]
  },
  {
   "cell_type": "code",
   "execution_count": null,
   "metadata": {
    "colab": {
     "base_uri": "https://localhost:8080/"
    },
    "id": "JI7UTXbhaBon",
    "outputId": "cc2b8d28-8fb4-4b77-9948-87efae9b42bf"
   },
   "outputs": [],
   "source": [
    "# This will update the Colab environment and restart the kernel.  Don't run the next cell until you see the session crash.\n",
    "!bash rapidsai-csp-utils/colab/update_gcc.sh\n",
    "import os\n",
    "os._exit(00)"
   ]
  },
  {
   "cell_type": "code",
   "execution_count": 1,
   "metadata": {
    "colab": {
     "base_uri": "https://localhost:8080/"
    },
    "executionInfo": {
     "elapsed": 31581,
     "status": "ok",
     "timestamp": 1665668787866,
     "user": {
      "displayName": "Landon Shorack",
      "userId": "08420491670803319518"
     },
     "user_tz": 420
    },
    "id": "qg2SasWKaBsB",
    "outputId": "4fb710bf-af8e-4ea4-e327-272236dd05bb"
   },
   "outputs": [
    {
     "name": "stdout",
     "output_type": "stream",
     "text": [
      "⏬ Downloading https://github.com/jaimergp/miniforge/releases/latest/download/Mambaforge-colab-Linux-x86_64.sh...\n",
      "📦 Installing...\n",
      "📌 Adjusting configuration...\n",
      "🩹 Patching environment...\n",
      "⏲ Done in 0:00:32\n",
      "🔁 Restarting kernel...\n"
     ]
    }
   ],
   "source": [
    "# This will install CondaColab.  This will restart your kernel one last time.  Run this cell by itself and only run the next cell once you see the session crash.\n",
    "import condacolab\n",
    "condacolab.install()"
   ]
  },
  {
   "cell_type": "code",
   "execution_count": 1,
   "metadata": {
    "colab": {
     "base_uri": "https://localhost:8080/"
    },
    "executionInfo": {
     "elapsed": 2,
     "status": "ok",
     "timestamp": 1665668798141,
     "user": {
      "displayName": "Landon Shorack",
      "userId": "08420491670803319518"
     },
     "user_tz": 420
    },
    "id": "fKSMDrN_aB-v",
    "outputId": "fb17128a-39a5-40ed-99f0-47f67fad34f8"
   },
   "outputs": [
    {
     "name": "stdout",
     "output_type": "stream",
     "text": [
      "✨🍰✨ Everything looks OK!\n"
     ]
    }
   ],
   "source": [
    "# you can now run the rest of the cells as normal\n",
    "import condacolab\n",
    "condacolab.check()"
   ]
  },
  {
   "cell_type": "code",
   "execution_count": null,
   "metadata": {
    "colab": {
     "base_uri": "https://localhost:8080/"
    },
    "executionInfo": {
     "elapsed": 1347366,
     "status": "ok",
     "timestamp": 1665670148876,
     "user": {
      "displayName": "Landon Shorack",
      "userId": "08420491670803319518"
     },
     "user_tz": 420
    },
    "id": "m0jdXBRiDSzj",
    "outputId": "c09bbe76-9ed6-42c5-f1c9-57516989ed93"
   },
   "outputs": [],
   "source": [
    "# Installing RAPIDS is now 'python rapidsai-csp-utils/colab/install_rapids.py <release> <packages>'\n",
    "# The <release> options are 'stable' and 'nightly'.  Leaving it blank or adding any other words will default to stable.\n",
    "!python rapidsai-csp-utils/colab/install_rapids.py stable\n",
    "import os\n",
    "os.environ['NUMBAPRO_NVVM'] = '/usr/local/cuda/nvvm/lib64/libnvvm.so'\n",
    "os.environ['NUMBAPRO_LIBDEVICE'] = '/usr/local/cuda/nvvm/libdevice/'\n",
    "os.environ['CONDA_PREFIX'] = '/usr/local'"
   ]
  },
  {
   "cell_type": "markdown",
   "metadata": {
    "id": "VWmJWeIyirnQ"
   },
   "source": [
    "## Imports"
   ]
  },
  {
   "cell_type": "code",
   "execution_count": 18,
   "metadata": {
    "executionInfo": {
     "elapsed": 7068,
     "status": "ok",
     "timestamp": 1665682639754,
     "user": {
      "displayName": "Landon Shorack",
      "userId": "08420491670803319518"
     },
     "user_tz": 420
    },
    "id": "NskQ3zGro2XD"
   },
   "outputs": [],
   "source": [
    "import cudf\n",
    "import cuml\n",
    "import pandas as pd\n",
    "import matplotlib.pyplot as plt\n",
    "import library as lb"
   ]
  },
  {
   "cell_type": "markdown",
   "metadata": {
    "id": "fi5POim0kY-Z"
   },
   "source": [
    "## Connect to Google Drive"
   ]
  },
  {
   "cell_type": "code",
   "execution_count": 4,
   "metadata": {
    "colab": {
     "base_uri": "https://localhost:8080/"
    },
    "executionInfo": {
     "elapsed": 26718,
     "status": "ok",
     "timestamp": 1665670196405,
     "user": {
      "displayName": "Landon Shorack",
      "userId": "08420491670803319518"
     },
     "user_tz": 420
    },
    "id": "pQw-vbkJoAVZ",
    "outputId": "46474f4c-ee53-4c5c-ddb2-3163540f2fe6"
   },
   "outputs": [
    {
     "name": "stdout",
     "output_type": "stream",
     "text": [
      "Mounted at /content/drive/\n",
      "/content/drive/My Drive/DSI_Delta/Capstone\n"
     ]
    }
   ],
   "source": [
    "from google.colab import drive\n",
    "drive.mount('/content/drive/')\n",
    "%cd /content/drive/My\\ Drive/DSI_Delta/Capstone/"
   ]
  },
  {
   "cell_type": "markdown",
   "metadata": {
    "id": "mROoushnirkW"
   },
   "source": [
    "## Load Data"
   ]
  },
  {
   "cell_type": "code",
   "execution_count": 5,
   "metadata": {
    "colab": {
     "base_uri": "https://localhost:8080/"
    },
    "executionInfo": {
     "elapsed": 108128,
     "status": "ok",
     "timestamp": 1665670309611,
     "user": {
      "displayName": "Landon Shorack",
      "userId": "08420491670803319518"
     },
     "user_tz": 420
    },
    "id": "6RIyGSRMo6gh",
    "outputId": "af8f7b80-e678-4ebb-b8a5-3227b8fcd724"
   },
   "outputs": [
    {
     "name": "stderr",
     "output_type": "stream",
     "text": [
      "/usr/local/lib/python3.7/site-packages/cudf/io/hdf.py:15: UserWarning: Using CPU via Pandas to read HDF dataset, this may be GPU accelerated in the future\n",
      "  \"Using CPU via Pandas to read HDF dataset, this may \"\n"
     ]
    }
   ],
   "source": [
    "X_train = cudf.read_hdf('./data/train_test_split/X_train_cite_seq.h5')\n",
    "X_test = cudf.read_hdf('./data/train_test_split/X_test_cite_seq.h5')\n",
    "Y_train = cudf.read_hdf('./data/train_test_split/Y_train_cite_seq.h5')\n",
    "Y_test = cudf.read_hdf('./data/train_test_split/Y_test_cite_seq.h5')"
   ]
  },
  {
   "cell_type": "markdown",
   "metadata": {
    "id": "JmEBqqp-ircB"
   },
   "source": [
    "## Find Correlations between genes and proteins"
   ]
  },
  {
   "cell_type": "code",
   "execution_count": 6,
   "metadata": {
    "colab": {
     "base_uri": "https://localhost:8080/"
    },
    "executionInfo": {
     "elapsed": 3,
     "status": "ok",
     "timestamp": 1665670316223,
     "user": {
      "displayName": "Landon Shorack",
      "userId": "08420491670803319518"
     },
     "user_tz": 420
    },
    "id": "u_BrWydprt3m",
    "outputId": "50ba6a94-39ef-4831-c100-cca948ea74e5"
   },
   "outputs": [
    {
     "data": {
      "text/plain": [
       "(cudf.core.dataframe.DataFrame,\n",
       " cudf.core.dataframe.DataFrame,\n",
       " cudf.core.dataframe.DataFrame,\n",
       " cudf.core.dataframe.DataFrame)"
      ]
     },
     "execution_count": 6,
     "metadata": {},
     "output_type": "execute_result"
    }
   ],
   "source": [
    "type(X_train), type(X_test), type(Y_train), type(Y_test)"
   ]
  },
  {
   "cell_type": "code",
   "execution_count": 7,
   "metadata": {
    "colab": {
     "base_uri": "https://localhost:8080/"
    },
    "executionInfo": {
     "elapsed": 4,
     "status": "ok",
     "timestamp": 1665670330863,
     "user": {
      "displayName": "Landon Shorack",
      "userId": "08420491670803319518"
     },
     "user_tz": 420
    },
    "id": "vrDq-z0or5rG",
    "outputId": "50da4253-83da-48de-e3b0-9134dd41a615"
   },
   "outputs": [
    {
     "data": {
      "text/plain": [
       "((56790, 22050), (14198, 22050), (56790, 145), (14198, 145))"
      ]
     },
     "execution_count": 7,
     "metadata": {},
     "output_type": "execute_result"
    }
   ],
   "source": [
    "X_train.shape, X_test.shape, Y_train.shape, Y_test.shape"
   ]
  },
  {
   "cell_type": "markdown",
   "metadata": {
    "id": "1cK5D8YBmZ89"
   },
   "source": [
    "### Find Correlations between each protein and the set of genes"
   ]
  },
  {
   "cell_type": "code",
   "execution_count": null,
   "metadata": {
    "colab": {
     "base_uri": "https://localhost:8080/"
    },
    "executionInfo": {
     "elapsed": 11705996,
     "status": "ok",
     "timestamp": 1665682507314,
     "user": {
      "displayName": "Landon Shorack",
      "userId": "08420491670803319518"
     },
     "user_tz": 420
    },
    "id": "v-0uNFcYmWBJ",
    "outputId": "b3e31fc1-232a-4a7b-da11-a611bcbfebcb"
   },
   "outputs": [],
   "source": [
    "dict_of_protein_gene_corrs = {}\n",
    "\n",
    "loop = 0\n",
    "for protein in Y_train.columns[4:]:\n",
    "    gene_corrs = []\n",
    "    for gene in X_train.columns:\n",
    "        gene_corrs.append(Y_train[protein].corr(X_train[gene]))\n",
    "\n",
    "    dict_of_protein_gene_corrs[protein] = gene_corrs\n",
    "\n",
    "    print(protein)\n",
    "\n",
    "    loop += 1\n",
    "    if loop % 14 == 0:\n",
    "        print(f'{loop/14}% complete')\n",
    "\n",
    "df_protein_gene_corrs_train = pd.DataFrame(dict_of_protein_gene_corrs, index = X_train.columns)\n",
    "\n",
    "df_protein_gene_corrs_train.to_csv('./data/train_test_split/cite_seq_train_protein_gene_corrs.csv')"
   ]
  },
  {
   "cell_type": "code",
   "execution_count": 15,
   "metadata": {
    "colab": {
     "base_uri": "https://localhost:8080/"
    },
    "executionInfo": {
     "elapsed": 3,
     "status": "ok",
     "timestamp": 1665682579915,
     "user": {
      "displayName": "Landon Shorack",
      "userId": "08420491670803319518"
     },
     "user_tz": 420
    },
    "id": "86m1f_NLatye",
    "outputId": "145b8402-c587-4c68-b356-628dfc4a0a99"
   },
   "outputs": [
    {
     "data": {
      "text/plain": [
       "(22050, 141)"
      ]
     },
     "execution_count": 15,
     "metadata": {},
     "output_type": "execute_result"
    }
   ],
   "source": [
    "df_protein_gene_corrs_train.shape"
   ]
  },
  {
   "cell_type": "markdown",
   "metadata": {},
   "source": [
    "This produces a table of correlations"
   ]
  }
 ],
 "metadata": {
  "accelerator": "GPU",
  "colab": {
   "authorship_tag": "ABX9TyPyqqD7VwxnBrxZQCLA36y3",
   "machine_shape": "hm",
   "provenance": []
  },
  "gpuClass": "standard",
  "kernelspec": {
   "display_name": "Python 3",
   "language": "python",
   "name": "python3"
  },
  "language_info": {
   "codemirror_mode": {
    "name": "ipython",
    "version": 3
   },
   "file_extension": ".py",
   "mimetype": "text/x-python",
   "name": "python",
   "nbconvert_exporter": "python",
   "pygments_lexer": "ipython3",
   "version": "3.6.13"
  }
 },
 "nbformat": 4,
 "nbformat_minor": 4
}
