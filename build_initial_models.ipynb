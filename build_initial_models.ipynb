{
 "cells": [
  {
   "cell_type": "markdown",
   "id": "cee9c56b-7675-47d0-983d-33afb36eca82",
   "metadata": {},
   "source": [
    "# Building Initial Models"
   ]
  },
  {
   "cell_type": "markdown",
   "id": "5b1d3ee2-a5c0-46fa-a565-5084276c687f",
   "metadata": {},
   "source": [
    "My goal for this notebook is to understand how much signal can be extracted from the genes most correlated to the protein presence and if linear models are an appropriate tool for this vector space. Further, the problem statement involves producing different models for 140 continuous targets, namely the proteins whose presence was recorded. This initial model should provide a sense of which proteins may be more challenging to model."
   ]
  },
  {
   "cell_type": "markdown",
   "id": "d0f04b40-1c3a-4a99-aaaf-c30b98aafa28",
   "metadata": {},
   "source": [
    "## Imports"
   ]
  },
  {
   "cell_type": "code",
   "execution_count": 1,
   "id": "d22806a8-3475-4b60-a048-3ec22750bf80",
   "metadata": {},
   "outputs": [],
   "source": [
    "import library as lb\n",
    "\n",
    "import pandas as pd\n",
    "import matplotlib.pyplot as plt\n",
    "import seaborn as sns\n",
    "import numpy as np\n",
    "\n",
    "from sklearn.model_selection import train_test_split, cross_validate\n",
    "from sklearn.pipeline import Pipeline\n",
    "from sklearn.preprocessing import StandardScaler\n",
    "from sklearn.decomposition import PCA\n",
    "from sklearn.dummy import DummyRegressor\n",
    "from sklearn.linear_model import LinearRegression\n",
    "from sklearn.metrics import r2_score, mean_absolute_error, mean_squared_error"
   ]
  },
  {
   "cell_type": "markdown",
   "id": "181f5356-e30c-4cb2-8243-daae812dc1ef",
   "metadata": {},
   "source": [
    "## Load Data"
   ]
  },
  {
   "cell_type": "code",
   "execution_count": 2,
   "id": "a86817b2-f659-4fa3-897b-58cfe78184a2",
   "metadata": {},
   "outputs": [],
   "source": [
    "X_train = pd.read_hdf('./data/train_test_split/X_train_cite_seq.h5')\n",
    "X_test = pd.read_hdf('./data/train_test_split/X_test_cite_seq.h5')\n",
    "Y_train = pd.read_hdf('./data/train_test_split/Y_train_cite_seq.h5')\n",
    "Y_test = pd.read_hdf('./data/train_test_split/Y_test_cite_seq.h5')"
   ]
  },
  {
   "cell_type": "code",
   "execution_count": 3,
   "id": "80b79c6a-4be7-4c3b-93d1-6aa66238f7d9",
   "metadata": {},
   "outputs": [],
   "source": [
    "Y_train.drop(columns = 'to_stratify', inplace = True)\n",
    "Y_test.drop(columns = 'to_stratify', inplace = True)\n",
    "# Created during train-test split, not relevent to modeling"
   ]
  },
  {
   "cell_type": "code",
   "execution_count": 4,
   "id": "09371add-b447-42ee-9ae7-7b87407b3040",
   "metadata": {},
   "outputs": [],
   "source": [
    "corrs = pd.read_csv('./data/train_test_split/cite_seq_train_protein_gene_corrs.csv')"
   ]
  },
  {
   "cell_type": "markdown",
   "id": "44cfc462-b8fc-4f10-9d3d-8b96ceec1f97",
   "metadata": {},
   "source": [
    "### Reduce the number of cells considered"
   ]
  },
  {
   "cell_type": "markdown",
   "id": "c5c5081e-66bd-4b5a-86c4-e0f20b15b176",
   "metadata": {},
   "source": [
    "I will only consider the latest day, day four, for these models in order to tune them. I will consider all the data in a Google Colab Notebook."
   ]
  },
  {
   "cell_type": "code",
   "execution_count": 5,
   "id": "7c36e907-98f6-422d-ae9e-8e14e0d8a88b",
   "metadata": {},
   "outputs": [],
   "source": [
    "train_mask = Y_train['day'] == 4\n",
    "test_mask = Y_test['day'] == 4"
   ]
  },
  {
   "cell_type": "code",
   "execution_count": 6,
   "id": "0b5da029-e8ef-4629-a589-c4221582dfbe",
   "metadata": {},
   "outputs": [],
   "source": [
    "X_train = X_train[train_mask]\n",
    "X_test = X_test[test_mask]\n",
    "Y_train = Y_train[train_mask]\n",
    "Y_test = Y_test[test_mask]"
   ]
  },
  {
   "cell_type": "code",
   "execution_count": 7,
   "id": "2410588a-eeba-435d-92e9-4f20386c3b59",
   "metadata": {},
   "outputs": [
    {
     "data": {
      "text/plain": [
       "(0.8, 0.2)"
      ]
     },
     "execution_count": 7,
     "metadata": {},
     "output_type": "execute_result"
    }
   ],
   "source": [
    "measure_of_all_data = X_train.shape[0] + X_test.shape[0]\n",
    "X_train.shape[0] / measure_of_all_data, X_test.shape[0] / measure_of_all_data"
   ]
  },
  {
   "cell_type": "markdown",
   "id": "af737e7a-65cd-4758-a538-b8035c4f9f5b",
   "metadata": {
    "tags": []
   },
   "source": [
    "The train-test split was stratified on day 4 so the distribution between train and test is still 80/20."
   ]
  },
  {
   "cell_type": "code",
   "execution_count": 8,
   "id": "ef5cca50-e465-4b9e-be38-06dcb736c87e",
   "metadata": {},
   "outputs": [
    {
     "data": {
      "text/plain": [
       "(4, 4)"
      ]
     },
     "execution_count": 8,
     "metadata": {},
     "output_type": "execute_result"
    }
   ],
   "source": [
    "Y_train['day'].unique()[0], Y_test['day'].unique()[0]"
   ]
  },
  {
   "cell_type": "markdown",
   "id": "d7f18ae9-6900-4d4c-b2c8-e88c334c74ff",
   "metadata": {},
   "source": [
    "The mask was applied correctly on the targets, only day 4 is present."
   ]
  },
  {
   "cell_type": "code",
   "execution_count": 9,
   "id": "8080969d-ef4b-4efb-8a7d-8633d3b29c4c",
   "metadata": {},
   "outputs": [
    {
     "data": {
      "text/plain": [
       "True"
      ]
     },
     "execution_count": 9,
     "metadata": {},
     "output_type": "execute_result"
    }
   ],
   "source": [
    "all_true = True\n",
    "for i in Y_train.index == X_train.index:\n",
    "    if not i:\n",
    "        all_true = False\n",
    "        break\n",
    "all_true"
   ]
  },
  {
   "cell_type": "code",
   "execution_count": 10,
   "id": "fa89ebf7-c4f2-4fb3-8bcb-87e8ec283336",
   "metadata": {},
   "outputs": [
    {
     "data": {
      "text/plain": [
       "True"
      ]
     },
     "execution_count": 10,
     "metadata": {},
     "output_type": "execute_result"
    }
   ],
   "source": [
    "all_true = True\n",
    "for i in Y_test.index == X_test.index:\n",
    "    if not i:\n",
    "        all_true = False\n",
    "        break\n",
    "all_true"
   ]
  },
  {
   "cell_type": "markdown",
   "id": "b7e4a3e2-7bd1-4dd7-8c2d-9be666840067",
   "metadata": {},
   "source": [
    "The mask was applied corectly on the predictors, each index pair line up correctly."
   ]
  },
  {
   "cell_type": "markdown",
   "id": "135a1234-5abc-47fa-b3f5-41b3e034e148",
   "metadata": {},
   "source": [
    "## Consider the Correlations of the Genes to the Proteins"
   ]
  },
  {
   "cell_type": "markdown",
   "id": "73f69348-d8bd-4690-8874-38cbc517d225",
   "metadata": {},
   "source": [
    "The correlations were calculated in a seperate notebook using NVIDIA RAPIDS using the same train-test split global to the project."
   ]
  },
  {
   "cell_type": "markdown",
   "id": "1007f348-e311-4901-ae92-9495ef8d5b6c",
   "metadata": {},
   "source": [
    "### Correlation Analysis"
   ]
  },
  {
   "cell_type": "markdown",
   "id": "af827580-be55-4585-90a8-49e5aa0e6fb6",
   "metadata": {},
   "source": [
    "#### Drop missing values"
   ]
  },
  {
   "cell_type": "code",
   "execution_count": 11,
   "id": "05fa5600-d586-4b98-9c46-0b7271fc10de",
   "metadata": {},
   "outputs": [],
   "source": [
    "corrs.rename(columns = {'Unnamed: 0': 'gene_id'}, inplace = True)"
   ]
  },
  {
   "cell_type": "code",
   "execution_count": 12,
   "id": "fb2581ac-f2a0-4ee4-9f87-60492dfbae23",
   "metadata": {},
   "outputs": [],
   "source": [
    "corrs.set_index('gene_id', inplace = True)"
   ]
  },
  {
   "cell_type": "code",
   "execution_count": 13,
   "id": "6f6bcb5c-25c4-4190-a755-cfe520b6f8a2",
   "metadata": {},
   "outputs": [],
   "source": [
    "corrs.drop(columns = 'to_stratify', inplace = True)\n",
    "# Created during train-test split, not relevent to modeling"
   ]
  },
  {
   "cell_type": "code",
   "execution_count": 14,
   "id": "be257df2-e12f-43a7-b50e-08b236781959",
   "metadata": {},
   "outputs": [
    {
     "data": {
      "text/html": [
       "<div>\n",
       "<style scoped>\n",
       "    .dataframe tbody tr th:only-of-type {\n",
       "        vertical-align: middle;\n",
       "    }\n",
       "\n",
       "    .dataframe tbody tr th {\n",
       "        vertical-align: top;\n",
       "    }\n",
       "\n",
       "    .dataframe thead th {\n",
       "        text-align: right;\n",
       "    }\n",
       "</style>\n",
       "<table border=\"1\" class=\"dataframe\">\n",
       "  <thead>\n",
       "    <tr style=\"text-align: right;\">\n",
       "      <th></th>\n",
       "      <th>CD86</th>\n",
       "      <th>CD274</th>\n",
       "      <th>CD270</th>\n",
       "      <th>CD155</th>\n",
       "      <th>CD112</th>\n",
       "      <th>CD47</th>\n",
       "      <th>CD48</th>\n",
       "      <th>CD40</th>\n",
       "      <th>CD154</th>\n",
       "      <th>CD52</th>\n",
       "      <th>...</th>\n",
       "      <th>CD94</th>\n",
       "      <th>CD162</th>\n",
       "      <th>CD85j</th>\n",
       "      <th>CD23</th>\n",
       "      <th>CD328</th>\n",
       "      <th>HLA-E</th>\n",
       "      <th>CD82</th>\n",
       "      <th>CD101</th>\n",
       "      <th>CD88</th>\n",
       "      <th>CD224</th>\n",
       "    </tr>\n",
       "    <tr>\n",
       "      <th>gene_id</th>\n",
       "      <th></th>\n",
       "      <th></th>\n",
       "      <th></th>\n",
       "      <th></th>\n",
       "      <th></th>\n",
       "      <th></th>\n",
       "      <th></th>\n",
       "      <th></th>\n",
       "      <th></th>\n",
       "      <th></th>\n",
       "      <th></th>\n",
       "      <th></th>\n",
       "      <th></th>\n",
       "      <th></th>\n",
       "      <th></th>\n",
       "      <th></th>\n",
       "      <th></th>\n",
       "      <th></th>\n",
       "      <th></th>\n",
       "      <th></th>\n",
       "      <th></th>\n",
       "    </tr>\n",
       "  </thead>\n",
       "  <tbody>\n",
       "    <tr>\n",
       "      <th>ENSG00000121410_A1BG</th>\n",
       "      <td>-0.000022</td>\n",
       "      <td>-0.002550</td>\n",
       "      <td>-0.004659</td>\n",
       "      <td>-0.000762</td>\n",
       "      <td>0.014661</td>\n",
       "      <td>0.014575</td>\n",
       "      <td>-0.000235</td>\n",
       "      <td>0.000490</td>\n",
       "      <td>-0.006290</td>\n",
       "      <td>0.009381</td>\n",
       "      <td>...</td>\n",
       "      <td>0.005153</td>\n",
       "      <td>-0.001545</td>\n",
       "      <td>-0.002458</td>\n",
       "      <td>-0.000402</td>\n",
       "      <td>0.002696</td>\n",
       "      <td>-0.000680</td>\n",
       "      <td>-0.010392</td>\n",
       "      <td>0.009006</td>\n",
       "      <td>-0.018318</td>\n",
       "      <td>-0.001764</td>\n",
       "    </tr>\n",
       "    <tr>\n",
       "      <th>ENSG00000268895_A1BG-AS1</th>\n",
       "      <td>0.001822</td>\n",
       "      <td>-0.011199</td>\n",
       "      <td>-0.000575</td>\n",
       "      <td>0.013445</td>\n",
       "      <td>0.014784</td>\n",
       "      <td>0.011216</td>\n",
       "      <td>0.008230</td>\n",
       "      <td>-0.001860</td>\n",
       "      <td>0.002584</td>\n",
       "      <td>0.011600</td>\n",
       "      <td>...</td>\n",
       "      <td>-0.003138</td>\n",
       "      <td>0.014779</td>\n",
       "      <td>-0.005772</td>\n",
       "      <td>0.001068</td>\n",
       "      <td>0.002792</td>\n",
       "      <td>0.005366</td>\n",
       "      <td>-0.000961</td>\n",
       "      <td>0.005244</td>\n",
       "      <td>-0.003580</td>\n",
       "      <td>-0.004096</td>\n",
       "    </tr>\n",
       "    <tr>\n",
       "      <th>ENSG00000175899_A2M</th>\n",
       "      <td>0.064626</td>\n",
       "      <td>0.009540</td>\n",
       "      <td>0.021473</td>\n",
       "      <td>0.013768</td>\n",
       "      <td>0.034001</td>\n",
       "      <td>0.009187</td>\n",
       "      <td>0.049535</td>\n",
       "      <td>0.015647</td>\n",
       "      <td>0.009757</td>\n",
       "      <td>0.044291</td>\n",
       "      <td>...</td>\n",
       "      <td>-0.004049</td>\n",
       "      <td>0.003167</td>\n",
       "      <td>0.010101</td>\n",
       "      <td>0.007980</td>\n",
       "      <td>0.150346</td>\n",
       "      <td>0.015810</td>\n",
       "      <td>-0.007537</td>\n",
       "      <td>0.143869</td>\n",
       "      <td>-0.004689</td>\n",
       "      <td>0.021982</td>\n",
       "    </tr>\n",
       "    <tr>\n",
       "      <th>ENSG00000245105_A2M-AS1</th>\n",
       "      <td>0.003193</td>\n",
       "      <td>0.011383</td>\n",
       "      <td>0.021819</td>\n",
       "      <td>0.045378</td>\n",
       "      <td>0.069043</td>\n",
       "      <td>0.017083</td>\n",
       "      <td>-0.013548</td>\n",
       "      <td>0.007841</td>\n",
       "      <td>0.015188</td>\n",
       "      <td>0.039427</td>\n",
       "      <td>...</td>\n",
       "      <td>0.010883</td>\n",
       "      <td>-0.001565</td>\n",
       "      <td>0.006488</td>\n",
       "      <td>0.017381</td>\n",
       "      <td>-0.009324</td>\n",
       "      <td>0.013009</td>\n",
       "      <td>0.007729</td>\n",
       "      <td>0.001289</td>\n",
       "      <td>-0.006739</td>\n",
       "      <td>0.035258</td>\n",
       "    </tr>\n",
       "    <tr>\n",
       "      <th>ENSG00000166535_A2ML1</th>\n",
       "      <td>0.003951</td>\n",
       "      <td>0.003135</td>\n",
       "      <td>-0.005503</td>\n",
       "      <td>-0.011076</td>\n",
       "      <td>-0.016184</td>\n",
       "      <td>-0.010638</td>\n",
       "      <td>-0.003587</td>\n",
       "      <td>0.000868</td>\n",
       "      <td>-0.004975</td>\n",
       "      <td>-0.007788</td>\n",
       "      <td>...</td>\n",
       "      <td>-0.001255</td>\n",
       "      <td>-0.008089</td>\n",
       "      <td>-0.002540</td>\n",
       "      <td>-0.002290</td>\n",
       "      <td>0.000386</td>\n",
       "      <td>-0.007121</td>\n",
       "      <td>0.001895</td>\n",
       "      <td>-0.002501</td>\n",
       "      <td>0.006183</td>\n",
       "      <td>-0.005017</td>\n",
       "    </tr>\n",
       "  </tbody>\n",
       "</table>\n",
       "<p>5 rows × 140 columns</p>\n",
       "</div>"
      ],
      "text/plain": [
       "                              CD86     CD274     CD270     CD155     CD112  \\\n",
       "gene_id                                                                      \n",
       "ENSG00000121410_A1BG     -0.000022 -0.002550 -0.004659 -0.000762  0.014661   \n",
       "ENSG00000268895_A1BG-AS1  0.001822 -0.011199 -0.000575  0.013445  0.014784   \n",
       "ENSG00000175899_A2M       0.064626  0.009540  0.021473  0.013768  0.034001   \n",
       "ENSG00000245105_A2M-AS1   0.003193  0.011383  0.021819  0.045378  0.069043   \n",
       "ENSG00000166535_A2ML1     0.003951  0.003135 -0.005503 -0.011076 -0.016184   \n",
       "\n",
       "                              CD47      CD48      CD40     CD154      CD52  \\\n",
       "gene_id                                                                      \n",
       "ENSG00000121410_A1BG      0.014575 -0.000235  0.000490 -0.006290  0.009381   \n",
       "ENSG00000268895_A1BG-AS1  0.011216  0.008230 -0.001860  0.002584  0.011600   \n",
       "ENSG00000175899_A2M       0.009187  0.049535  0.015647  0.009757  0.044291   \n",
       "ENSG00000245105_A2M-AS1   0.017083 -0.013548  0.007841  0.015188  0.039427   \n",
       "ENSG00000166535_A2ML1    -0.010638 -0.003587  0.000868 -0.004975 -0.007788   \n",
       "\n",
       "                          ...      CD94     CD162     CD85j      CD23  \\\n",
       "gene_id                   ...                                           \n",
       "ENSG00000121410_A1BG      ...  0.005153 -0.001545 -0.002458 -0.000402   \n",
       "ENSG00000268895_A1BG-AS1  ... -0.003138  0.014779 -0.005772  0.001068   \n",
       "ENSG00000175899_A2M       ... -0.004049  0.003167  0.010101  0.007980   \n",
       "ENSG00000245105_A2M-AS1   ...  0.010883 -0.001565  0.006488  0.017381   \n",
       "ENSG00000166535_A2ML1     ... -0.001255 -0.008089 -0.002540 -0.002290   \n",
       "\n",
       "                             CD328     HLA-E      CD82     CD101      CD88  \\\n",
       "gene_id                                                                      \n",
       "ENSG00000121410_A1BG      0.002696 -0.000680 -0.010392  0.009006 -0.018318   \n",
       "ENSG00000268895_A1BG-AS1  0.002792  0.005366 -0.000961  0.005244 -0.003580   \n",
       "ENSG00000175899_A2M       0.150346  0.015810 -0.007537  0.143869 -0.004689   \n",
       "ENSG00000245105_A2M-AS1  -0.009324  0.013009  0.007729  0.001289 -0.006739   \n",
       "ENSG00000166535_A2ML1     0.000386 -0.007121  0.001895 -0.002501  0.006183   \n",
       "\n",
       "                             CD224  \n",
       "gene_id                             \n",
       "ENSG00000121410_A1BG     -0.001764  \n",
       "ENSG00000268895_A1BG-AS1 -0.004096  \n",
       "ENSG00000175899_A2M       0.021982  \n",
       "ENSG00000245105_A2M-AS1   0.035258  \n",
       "ENSG00000166535_A2ML1    -0.005017  \n",
       "\n",
       "[5 rows x 140 columns]"
      ]
     },
     "execution_count": 14,
     "metadata": {},
     "output_type": "execute_result"
    }
   ],
   "source": [
    "corrs.head()"
   ]
  },
  {
   "cell_type": "code",
   "execution_count": 15,
   "id": "411c77d6-5987-4812-9cbf-9519842f87be",
   "metadata": {},
   "outputs": [
    {
     "data": {
      "text/plain": [
       "449    140\n",
       "dtype: int64"
      ]
     },
     "execution_count": 15,
     "metadata": {},
     "output_type": "execute_result"
    }
   ],
   "source": [
    "corrs.isnull().sum().value_counts()"
   ]
  },
  {
   "cell_type": "markdown",
   "id": "536ce5a4-fa70-4477-89b2-67758a36a9f2",
   "metadata": {},
   "source": [
    "There are 449 different genes that never have recorded presence in the cell's transcriptome. So, for all 140 proteins, when calculating the pearson coefficient between these missing in action genes and each protein a null value is the result. So these null values can simply be dropped, we will not be able to extract signal from them."
   ]
  },
  {
   "cell_type": "code",
   "execution_count": 16,
   "id": "3bef5702-caf3-407e-a927-037ffe3568a2",
   "metadata": {},
   "outputs": [
    {
     "data": {
      "text/plain": [
       "449"
      ]
     },
     "execution_count": 16,
     "metadata": {},
     "output_type": "execute_result"
    }
   ],
   "source": [
    "corrs.shape[0] - corrs.dropna().shape[0]"
   ]
  },
  {
   "cell_type": "markdown",
   "id": "9de8bc19-857b-4dd8-9fd2-234b9594800a",
   "metadata": {},
   "source": [
    "Dropping these nulls values does indeed only drop the 449 genes that are missing in action."
   ]
  },
  {
   "cell_type": "code",
   "execution_count": 17,
   "id": "e650170a-7f43-42b2-8ff8-c2e47621b8f4",
   "metadata": {},
   "outputs": [],
   "source": [
    "corrs.dropna(inplace = True)"
   ]
  },
  {
   "cell_type": "markdown",
   "id": "751bcbad-66a9-4354-adb5-20114950af46",
   "metadata": {
    "tags": []
   },
   "source": [
    "### Select relevent initial Genes"
   ]
  },
  {
   "cell_type": "markdown",
   "id": "339d160c-4279-448d-9a70-07385d8b5346",
   "metadata": {},
   "source": [
    "For every protein I am picking the predictive columns that most correlate to the given protein. These correlations have been caculated in seperate notebook."
   ]
  },
  {
   "cell_type": "code",
   "execution_count": 18,
   "id": "a22814ad-64a0-4924-a414-a1c780d6fe59",
   "metadata": {},
   "outputs": [],
   "source": [
    "number_of_genes_to_select = 100\n",
    "selected_genes = []\n",
    "for protein in Y_train.columns[4:]:\n",
    "    array = corrs.abs()[protein].sort_values(ascending = False).iloc[0:number_of_genes_to_select].index.values\n",
    "    selected_genes.append(array)\n",
    "# The '.values' lets us grab the genes names as an array instead of as part of Pandas' index class."
   ]
  },
  {
   "cell_type": "code",
   "execution_count": 19,
   "id": "209ab814-e4d8-42c8-9a45-877983ababc9",
   "metadata": {},
   "outputs": [
    {
     "data": {
      "text/plain": [
       "100"
      ]
     },
     "execution_count": 19,
     "metadata": {},
     "output_type": "execute_result"
    }
   ],
   "source": [
    "len(selected_genes[0])"
   ]
  },
  {
   "cell_type": "code",
   "execution_count": 20,
   "id": "2ebb2a68-6d74-47ae-8bf1-337901f6cc44",
   "metadata": {},
   "outputs": [
    {
     "data": {
      "text/plain": [
       "(140, 100.0)"
      ]
     },
     "execution_count": 20,
     "metadata": {},
     "output_type": "execute_result"
    }
   ],
   "source": [
    "len(selected_genes), sum([len(col_names) for col_names in selected_genes]) / len(selected_genes)"
   ]
  },
  {
   "cell_type": "markdown",
   "id": "3e1a113c-135a-466f-a4f7-e1ee36a404b8",
   "metadata": {},
   "source": [
    "I have a list of genes for each of the 140 portein targets, and each list has a length set by the `number_of_genes_to_select` variable."
   ]
  },
  {
   "cell_type": "code",
   "execution_count": 21,
   "id": "aa3b6b3a-be53-4733-aec7-5565a6e13ab7",
   "metadata": {},
   "outputs": [
    {
     "data": {
      "text/plain": [
       "((22516, 22050), (22516, 144))"
      ]
     },
     "execution_count": 21,
     "metadata": {},
     "output_type": "execute_result"
    }
   ],
   "source": [
    "X_train.shape, Y_train.shape"
   ]
  },
  {
   "cell_type": "markdown",
   "id": "f88bd37e-4587-4402-94dd-91ab6bdf0acb",
   "metadata": {},
   "source": [
    "### Consider the correlations between the different genes, the predictive variables."
   ]
  },
  {
   "cell_type": "markdown",
   "id": "08af3eb7-4392-4c54-9bba-866eb0dd6456",
   "metadata": {},
   "source": [
    "Given that this is a regression model we have as an assumption that the predictive columns are uncorrelated."
   ]
  },
  {
   "cell_type": "markdown",
   "id": "768935bc-7a81-421a-ae6b-5e9594ca1f82",
   "metadata": {},
   "source": [
    "### Consider Predictor Correlations"
   ]
  },
  {
   "cell_type": "code",
   "execution_count": null,
   "id": "96c00d48-cfba-4159-815e-29d7b7406962",
   "metadata": {},
   "outputs": [],
   "source": [
    "gene_corrs = X_train.corr()"
   ]
  },
  {
   "cell_type": "code",
   "execution_count": null,
   "id": "65964620-e9c5-4562-bc90-37196a10446e",
   "metadata": {},
   "outputs": [],
   "source": [
    "# Each column only has one case where the correlation is exactly one.\n",
    "# So I can safely declare all such values as NaN.\n",
    "gene_corrs.applymap(lambda x: np.nan if x == 1.0 else x).isnull().sum().unique()"
   ]
  },
  {
   "cell_type": "code",
   "execution_count": null,
   "id": "42bf93a7-4696-4447-adf2-90bf9d6aa4a2",
   "metadata": {},
   "outputs": [],
   "source": [
    "gene_corrs = gene_corrs.applymap(lambda x: np.nan if x == 1.0 else x)"
   ]
  },
  {
   "cell_type": "code",
   "execution_count": null,
   "id": "a22fce38-7370-4570-80b7-df1a7d53611c",
   "metadata": {
    "tags": []
   },
   "outputs": [],
   "source": [
    "gene_corrs.max().describe()"
   ]
  },
  {
   "cell_type": "markdown",
   "id": "19f3dd6d-af81-4830-a653-f046539f6ac0",
   "metadata": {},
   "source": [
    "PCA is important here to decorrelate these predictors to perform linear regression."
   ]
  },
  {
   "cell_type": "markdown",
   "id": "7709e9ec-7a03-4cd8-8bcd-8d96d8d44d5c",
   "metadata": {},
   "source": [
    "## Fit Models"
   ]
  },
  {
   "cell_type": "markdown",
   "id": "416a0ddd-7b99-4a8b-8af0-6b96d4b72c74",
   "metadata": {},
   "source": [
    "### Dummy Models"
   ]
  },
  {
   "cell_type": "code",
   "execution_count": 22,
   "id": "809ac9b4-648c-4442-95be-4f3536ebe11f",
   "metadata": {},
   "outputs": [
    {
     "name": "stdout",
     "output_type": "stream",
     "text": [
      "0.0% complete\n",
      "10.0% complete\n",
      "20.0% complete\n",
      "30.0% complete\n",
      "40.0% complete\n",
      "50.0% complete\n",
      "60.0% complete\n",
      "70.0% complete\n",
      "80.0% complete\n",
      "90.0% complete\n"
     ]
    },
    {
     "data": {
      "text/html": [
       "<div>\n",
       "<style scoped>\n",
       "    .dataframe tbody tr th:only-of-type {\n",
       "        vertical-align: middle;\n",
       "    }\n",
       "\n",
       "    .dataframe tbody tr th {\n",
       "        vertical-align: top;\n",
       "    }\n",
       "\n",
       "    .dataframe thead th {\n",
       "        text-align: right;\n",
       "    }\n",
       "</style>\n",
       "<table border=\"1\" class=\"dataframe\">\n",
       "  <thead>\n",
       "    <tr style=\"text-align: right;\">\n",
       "      <th></th>\n",
       "      <th>Train R-Squared</th>\n",
       "      <th>Train Mean-Squared Error</th>\n",
       "      <th>Train Mean-Absolute Error</th>\n",
       "      <th>Test R-Squared</th>\n",
       "      <th>Test Mean-Squared Error</th>\n",
       "      <th>Test Mean-Absolute Error</th>\n",
       "    </tr>\n",
       "  </thead>\n",
       "  <tbody>\n",
       "    <tr>\n",
       "      <th>count</th>\n",
       "      <td>140.0</td>\n",
       "      <td>140.000000</td>\n",
       "      <td>140.000000</td>\n",
       "      <td>140.0</td>\n",
       "      <td>140.000000</td>\n",
       "      <td>140.000000</td>\n",
       "    </tr>\n",
       "    <tr>\n",
       "      <th>mean</th>\n",
       "      <td>0.0</td>\n",
       "      <td>5.039047</td>\n",
       "      <td>1.334432</td>\n",
       "      <td>0.0</td>\n",
       "      <td>5.048703</td>\n",
       "      <td>1.340146</td>\n",
       "    </tr>\n",
       "    <tr>\n",
       "      <th>std</th>\n",
       "      <td>0.0</td>\n",
       "      <td>9.776774</td>\n",
       "      <td>1.047765</td>\n",
       "      <td>0.0</td>\n",
       "      <td>9.781611</td>\n",
       "      <td>1.052554</td>\n",
       "    </tr>\n",
       "    <tr>\n",
       "      <th>min</th>\n",
       "      <td>0.0</td>\n",
       "      <td>0.488356</td>\n",
       "      <td>0.539358</td>\n",
       "      <td>-0.0</td>\n",
       "      <td>0.491506</td>\n",
       "      <td>0.541832</td>\n",
       "    </tr>\n",
       "    <tr>\n",
       "      <th>25%</th>\n",
       "      <td>0.0</td>\n",
       "      <td>0.812162</td>\n",
       "      <td>0.709666</td>\n",
       "      <td>-0.0</td>\n",
       "      <td>0.806175</td>\n",
       "      <td>0.707956</td>\n",
       "    </tr>\n",
       "    <tr>\n",
       "      <th>50%</th>\n",
       "      <td>0.0</td>\n",
       "      <td>1.207201</td>\n",
       "      <td>0.828066</td>\n",
       "      <td>-0.0</td>\n",
       "      <td>1.164899</td>\n",
       "      <td>0.834159</td>\n",
       "    </tr>\n",
       "    <tr>\n",
       "      <th>75%</th>\n",
       "      <td>0.0</td>\n",
       "      <td>5.170775</td>\n",
       "      <td>1.735204</td>\n",
       "      <td>-0.0</td>\n",
       "      <td>5.133860</td>\n",
       "      <td>1.765947</td>\n",
       "    </tr>\n",
       "    <tr>\n",
       "      <th>max</th>\n",
       "      <td>0.0</td>\n",
       "      <td>79.279221</td>\n",
       "      <td>5.874960</td>\n",
       "      <td>-0.0</td>\n",
       "      <td>77.830307</td>\n",
       "      <td>5.856011</td>\n",
       "    </tr>\n",
       "  </tbody>\n",
       "</table>\n",
       "</div>"
      ],
      "text/plain": [
       "       Train R-Squared  Train Mean-Squared Error  Train Mean-Absolute Error  \\\n",
       "count            140.0                140.000000                 140.000000   \n",
       "mean               0.0                  5.039047                   1.334432   \n",
       "std                0.0                  9.776774                   1.047765   \n",
       "min                0.0                  0.488356                   0.539358   \n",
       "25%                0.0                  0.812162                   0.709666   \n",
       "50%                0.0                  1.207201                   0.828066   \n",
       "75%                0.0                  5.170775                   1.735204   \n",
       "max                0.0                 79.279221                   5.874960   \n",
       "\n",
       "       Test R-Squared  Test Mean-Squared Error  Test Mean-Absolute Error  \n",
       "count           140.0               140.000000                140.000000  \n",
       "mean              0.0                 5.048703                  1.340146  \n",
       "std               0.0                 9.781611                  1.052554  \n",
       "min              -0.0                 0.491506                  0.541832  \n",
       "25%              -0.0                 0.806175                  0.707956  \n",
       "50%              -0.0                 1.164899                  0.834159  \n",
       "75%              -0.0                 5.133860                  1.765947  \n",
       "max              -0.0                77.830307                  5.856011  "
      ]
     },
     "execution_count": 22,
     "metadata": {},
     "output_type": "execute_result"
    }
   ],
   "source": [
    "dumb = DummyRegressor()\n",
    "dumb_output = lb.fit_and_evaluate_citeseq_models(dumb, selected_genes, X_train, X_test, Y_train, Y_test, figures = False, pca_viz = False, eval_lr_coefs = False)\n",
    "dumb_output[0].describe()"
   ]
  },
  {
   "cell_type": "markdown",
   "id": "369c3d95-0e1c-44c2-8482-4b9e4c5d2ab2",
   "metadata": {},
   "source": [
    "These are my baseline models for all 140 protein targets. Notice that every model has an R-squared of zero; there is sufficient variation in protein occurence for the mean protein presence across all cells to have no predictive value."
   ]
  },
  {
   "cell_type": "markdown",
   "id": "2163a7d8-87a0-4e9d-adff-f9b20c23cb62",
   "metadata": {
    "tags": []
   },
   "source": [
    "### Simple Linear Regression"
   ]
  },
  {
   "cell_type": "code",
   "execution_count": 23,
   "id": "939e33a0-368c-4c16-b9f0-2ca30bed40b3",
   "metadata": {},
   "outputs": [
    {
     "name": "stdout",
     "output_type": "stream",
     "text": [
      "0.0% complete\n",
      "10.0% complete\n",
      "20.0% complete\n",
      "30.0% complete\n",
      "40.0% complete\n",
      "50.0% complete\n",
      "60.0% complete\n",
      "70.0% complete\n",
      "80.0% complete\n",
      "90.0% complete\n"
     ]
    },
    {
     "data": {
      "text/html": [
       "<div>\n",
       "<style scoped>\n",
       "    .dataframe tbody tr th:only-of-type {\n",
       "        vertical-align: middle;\n",
       "    }\n",
       "\n",
       "    .dataframe tbody tr th {\n",
       "        vertical-align: top;\n",
       "    }\n",
       "\n",
       "    .dataframe thead th {\n",
       "        text-align: right;\n",
       "    }\n",
       "</style>\n",
       "<table border=\"1\" class=\"dataframe\">\n",
       "  <thead>\n",
       "    <tr style=\"text-align: right;\">\n",
       "      <th></th>\n",
       "      <th>Train R-Squared</th>\n",
       "      <th>Train Mean-Squared Error</th>\n",
       "      <th>Train Mean-Absolute Error</th>\n",
       "      <th>Test R-Squared</th>\n",
       "      <th>Test Mean-Squared Error</th>\n",
       "      <th>Test Mean-Absolute Error</th>\n",
       "    </tr>\n",
       "  </thead>\n",
       "  <tbody>\n",
       "    <tr>\n",
       "      <th>count</th>\n",
       "      <td>140.000000</td>\n",
       "      <td>140.000000</td>\n",
       "      <td>140.000000</td>\n",
       "      <td>140.000000</td>\n",
       "      <td>140.000000</td>\n",
       "      <td>140.000000</td>\n",
       "    </tr>\n",
       "    <tr>\n",
       "      <th>mean</th>\n",
       "      <td>0.233429</td>\n",
       "      <td>2.632121</td>\n",
       "      <td>1.055070</td>\n",
       "      <td>0.223429</td>\n",
       "      <td>2.662942</td>\n",
       "      <td>1.063131</td>\n",
       "    </tr>\n",
       "    <tr>\n",
       "      <th>std</th>\n",
       "      <td>0.195631</td>\n",
       "      <td>3.796078</td>\n",
       "      <td>0.607022</td>\n",
       "      <td>0.200430</td>\n",
       "      <td>3.851000</td>\n",
       "      <td>0.612793</td>\n",
       "    </tr>\n",
       "    <tr>\n",
       "      <th>min</th>\n",
       "      <td>0.010000</td>\n",
       "      <td>0.447743</td>\n",
       "      <td>0.515696</td>\n",
       "      <td>0.000000</td>\n",
       "      <td>0.451148</td>\n",
       "      <td>0.521736</td>\n",
       "    </tr>\n",
       "    <tr>\n",
       "      <th>25%</th>\n",
       "      <td>0.070000</td>\n",
       "      <td>0.733318</td>\n",
       "      <td>0.676050</td>\n",
       "      <td>0.050000</td>\n",
       "      <td>0.744541</td>\n",
       "      <td>0.685093</td>\n",
       "    </tr>\n",
       "    <tr>\n",
       "      <th>50%</th>\n",
       "      <td>0.165000</td>\n",
       "      <td>1.056432</td>\n",
       "      <td>0.785525</td>\n",
       "      <td>0.160000</td>\n",
       "      <td>1.051766</td>\n",
       "      <td>0.794447</td>\n",
       "    </tr>\n",
       "    <tr>\n",
       "      <th>75%</th>\n",
       "      <td>0.400000</td>\n",
       "      <td>2.692111</td>\n",
       "      <td>1.218333</td>\n",
       "      <td>0.372500</td>\n",
       "      <td>2.684913</td>\n",
       "      <td>1.221707</td>\n",
       "    </tr>\n",
       "    <tr>\n",
       "      <th>max</th>\n",
       "      <td>0.810000</td>\n",
       "      <td>26.162706</td>\n",
       "      <td>3.518552</td>\n",
       "      <td>0.810000</td>\n",
       "      <td>25.959379</td>\n",
       "      <td>3.566404</td>\n",
       "    </tr>\n",
       "  </tbody>\n",
       "</table>\n",
       "</div>"
      ],
      "text/plain": [
       "       Train R-Squared  Train Mean-Squared Error  Train Mean-Absolute Error  \\\n",
       "count       140.000000                140.000000                 140.000000   \n",
       "mean          0.233429                  2.632121                   1.055070   \n",
       "std           0.195631                  3.796078                   0.607022   \n",
       "min           0.010000                  0.447743                   0.515696   \n",
       "25%           0.070000                  0.733318                   0.676050   \n",
       "50%           0.165000                  1.056432                   0.785525   \n",
       "75%           0.400000                  2.692111                   1.218333   \n",
       "max           0.810000                 26.162706                   3.518552   \n",
       "\n",
       "       Test R-Squared  Test Mean-Squared Error  Test Mean-Absolute Error  \n",
       "count      140.000000               140.000000                140.000000  \n",
       "mean         0.223429                 2.662942                  1.063131  \n",
       "std          0.200430                 3.851000                  0.612793  \n",
       "min          0.000000                 0.451148                  0.521736  \n",
       "25%          0.050000                 0.744541                  0.685093  \n",
       "50%          0.160000                 1.051766                  0.794447  \n",
       "75%          0.372500                 2.684913                  1.221707  \n",
       "max          0.810000                25.959379                  3.566404  "
      ]
     },
     "execution_count": 23,
     "metadata": {},
     "output_type": "execute_result"
    }
   ],
   "source": [
    "lr = LinearRegression()\n",
    "lr_output = lb.fit_and_evaluate_citeseq_models(lr, selected_genes, X_train, X_test, Y_train, Y_test, figures = False, pca_viz = False, eval_lr_coefs = False)\n",
    "lr_output[0].describe()"
   ]
  },
  {
   "cell_type": "code",
   "execution_count": 24,
   "id": "036afae4-066c-4154-91dc-7d7208d21f41",
   "metadata": {},
   "outputs": [
    {
     "data": {
      "text/html": [
       "<div>\n",
       "<style scoped>\n",
       "    .dataframe tbody tr th:only-of-type {\n",
       "        vertical-align: middle;\n",
       "    }\n",
       "\n",
       "    .dataframe tbody tr th {\n",
       "        vertical-align: top;\n",
       "    }\n",
       "\n",
       "    .dataframe thead th {\n",
       "        text-align: right;\n",
       "    }\n",
       "</style>\n",
       "<table border=\"1\" class=\"dataframe\">\n",
       "  <thead>\n",
       "    <tr style=\"text-align: right;\">\n",
       "      <th></th>\n",
       "      <th>Train R-Squared</th>\n",
       "      <th>Train Mean-Squared Error</th>\n",
       "      <th>Train Mean-Absolute Error</th>\n",
       "      <th>Test R-Squared</th>\n",
       "      <th>Test Mean-Squared Error</th>\n",
       "      <th>Test Mean-Absolute Error</th>\n",
       "    </tr>\n",
       "  </thead>\n",
       "  <tbody>\n",
       "    <tr>\n",
       "      <th>CD41</th>\n",
       "      <td>0.81</td>\n",
       "      <td>7.321157</td>\n",
       "      <td>1.801733</td>\n",
       "      <td>0.81</td>\n",
       "      <td>7.542717</td>\n",
       "      <td>1.829246</td>\n",
       "    </tr>\n",
       "    <tr>\n",
       "      <th>CD32</th>\n",
       "      <td>0.68</td>\n",
       "      <td>9.217151</td>\n",
       "      <td>2.151177</td>\n",
       "      <td>0.69</td>\n",
       "      <td>8.731278</td>\n",
       "      <td>2.135230</td>\n",
       "    </tr>\n",
       "    <tr>\n",
       "      <th>CD36</th>\n",
       "      <td>0.67</td>\n",
       "      <td>26.162706</td>\n",
       "      <td>3.098529</td>\n",
       "      <td>0.67</td>\n",
       "      <td>25.959379</td>\n",
       "      <td>3.118734</td>\n",
       "    </tr>\n",
       "    <tr>\n",
       "      <th>CD71</th>\n",
       "      <td>0.65</td>\n",
       "      <td>4.095520</td>\n",
       "      <td>1.478676</td>\n",
       "      <td>0.65</td>\n",
       "      <td>4.006034</td>\n",
       "      <td>1.500753</td>\n",
       "    </tr>\n",
       "    <tr>\n",
       "      <th>CD48</th>\n",
       "      <td>0.63</td>\n",
       "      <td>10.466292</td>\n",
       "      <td>2.370926</td>\n",
       "      <td>0.62</td>\n",
       "      <td>11.460934</td>\n",
       "      <td>2.448249</td>\n",
       "    </tr>\n",
       "  </tbody>\n",
       "</table>\n",
       "</div>"
      ],
      "text/plain": [
       "      Train R-Squared  Train Mean-Squared Error  Train Mean-Absolute Error  \\\n",
       "CD41             0.81                  7.321157                   1.801733   \n",
       "CD32             0.68                  9.217151                   2.151177   \n",
       "CD36             0.67                 26.162706                   3.098529   \n",
       "CD71             0.65                  4.095520                   1.478676   \n",
       "CD48             0.63                 10.466292                   2.370926   \n",
       "\n",
       "      Test R-Squared  Test Mean-Squared Error  Test Mean-Absolute Error  \n",
       "CD41            0.81                 7.542717                  1.829246  \n",
       "CD32            0.69                 8.731278                  2.135230  \n",
       "CD36            0.67                25.959379                  3.118734  \n",
       "CD71            0.65                 4.006034                  1.500753  \n",
       "CD48            0.62                11.460934                  2.448249  "
      ]
     },
     "execution_count": 24,
     "metadata": {},
     "output_type": "execute_result"
    }
   ],
   "source": [
    "lr_output[0].sort_values(by = 'Test R-Squared', ascending = False).head()"
   ]
  },
  {
   "cell_type": "markdown",
   "id": "7c0723b6-a6f5-47ac-b46a-145780d27049",
   "metadata": {
    "tags": []
   },
   "source": [
    "### Linear Regression with PCA"
   ]
  },
  {
   "cell_type": "markdown",
   "id": "9d9cfee1-7814-4de9-af15-f4d02a676ac4",
   "metadata": {},
   "source": [
    "#### Linear Regression with all of the PCA components"
   ]
  },
  {
   "cell_type": "code",
   "execution_count": 25,
   "id": "eef4ad84-792e-48d6-8eda-3c666fb00fa2",
   "metadata": {},
   "outputs": [
    {
     "name": "stdout",
     "output_type": "stream",
     "text": [
      "0.0% complete\n",
      "10.0% complete\n",
      "20.0% complete\n",
      "30.0% complete\n",
      "40.0% complete\n",
      "50.0% complete\n",
      "60.0% complete\n",
      "70.0% complete\n",
      "80.0% complete\n",
      "90.0% complete\n"
     ]
    },
    {
     "data": {
      "text/html": [
       "<div>\n",
       "<style scoped>\n",
       "    .dataframe tbody tr th:only-of-type {\n",
       "        vertical-align: middle;\n",
       "    }\n",
       "\n",
       "    .dataframe tbody tr th {\n",
       "        vertical-align: top;\n",
       "    }\n",
       "\n",
       "    .dataframe thead th {\n",
       "        text-align: right;\n",
       "    }\n",
       "</style>\n",
       "<table border=\"1\" class=\"dataframe\">\n",
       "  <thead>\n",
       "    <tr style=\"text-align: right;\">\n",
       "      <th></th>\n",
       "      <th>Train R-Squared</th>\n",
       "      <th>Train Mean-Squared Error</th>\n",
       "      <th>Train Mean-Absolute Error</th>\n",
       "      <th>Test R-Squared</th>\n",
       "      <th>Test Mean-Squared Error</th>\n",
       "      <th>Test Mean-Absolute Error</th>\n",
       "    </tr>\n",
       "  </thead>\n",
       "  <tbody>\n",
       "    <tr>\n",
       "      <th>count</th>\n",
       "      <td>140.000000</td>\n",
       "      <td>140.000000</td>\n",
       "      <td>140.000000</td>\n",
       "      <td>140.000000</td>\n",
       "      <td>140.000000</td>\n",
       "      <td>140.000000</td>\n",
       "    </tr>\n",
       "    <tr>\n",
       "      <th>mean</th>\n",
       "      <td>0.233429</td>\n",
       "      <td>2.632122</td>\n",
       "      <td>1.055062</td>\n",
       "      <td>0.223429</td>\n",
       "      <td>2.662928</td>\n",
       "      <td>1.063122</td>\n",
       "    </tr>\n",
       "    <tr>\n",
       "      <th>std</th>\n",
       "      <td>0.195631</td>\n",
       "      <td>3.796078</td>\n",
       "      <td>0.607025</td>\n",
       "      <td>0.200430</td>\n",
       "      <td>3.851006</td>\n",
       "      <td>0.612798</td>\n",
       "    </tr>\n",
       "    <tr>\n",
       "      <th>min</th>\n",
       "      <td>0.010000</td>\n",
       "      <td>0.447743</td>\n",
       "      <td>0.515696</td>\n",
       "      <td>0.000000</td>\n",
       "      <td>0.451148</td>\n",
       "      <td>0.521736</td>\n",
       "    </tr>\n",
       "    <tr>\n",
       "      <th>25%</th>\n",
       "      <td>0.070000</td>\n",
       "      <td>0.733318</td>\n",
       "      <td>0.676050</td>\n",
       "      <td>0.050000</td>\n",
       "      <td>0.744543</td>\n",
       "      <td>0.685093</td>\n",
       "    </tr>\n",
       "    <tr>\n",
       "      <th>50%</th>\n",
       "      <td>0.165000</td>\n",
       "      <td>1.056709</td>\n",
       "      <td>0.785514</td>\n",
       "      <td>0.160000</td>\n",
       "      <td>1.051418</td>\n",
       "      <td>0.794447</td>\n",
       "    </tr>\n",
       "    <tr>\n",
       "      <th>75%</th>\n",
       "      <td>0.400000</td>\n",
       "      <td>2.692111</td>\n",
       "      <td>1.218333</td>\n",
       "      <td>0.372500</td>\n",
       "      <td>2.684913</td>\n",
       "      <td>1.221707</td>\n",
       "    </tr>\n",
       "    <tr>\n",
       "      <th>max</th>\n",
       "      <td>0.810000</td>\n",
       "      <td>26.162706</td>\n",
       "      <td>3.518552</td>\n",
       "      <td>0.810000</td>\n",
       "      <td>25.959379</td>\n",
       "      <td>3.566404</td>\n",
       "    </tr>\n",
       "  </tbody>\n",
       "</table>\n",
       "</div>"
      ],
      "text/plain": [
       "       Train R-Squared  Train Mean-Squared Error  Train Mean-Absolute Error  \\\n",
       "count       140.000000                140.000000                 140.000000   \n",
       "mean          0.233429                  2.632122                   1.055062   \n",
       "std           0.195631                  3.796078                   0.607025   \n",
       "min           0.010000                  0.447743                   0.515696   \n",
       "25%           0.070000                  0.733318                   0.676050   \n",
       "50%           0.165000                  1.056709                   0.785514   \n",
       "75%           0.400000                  2.692111                   1.218333   \n",
       "max           0.810000                 26.162706                   3.518552   \n",
       "\n",
       "       Test R-Squared  Test Mean-Squared Error  Test Mean-Absolute Error  \n",
       "count      140.000000               140.000000                140.000000  \n",
       "mean         0.223429                 2.662928                  1.063122  \n",
       "std          0.200430                 3.851006                  0.612798  \n",
       "min          0.000000                 0.451148                  0.521736  \n",
       "25%          0.050000                 0.744543                  0.685093  \n",
       "50%          0.160000                 1.051418                  0.794447  \n",
       "75%          0.372500                 2.684913                  1.221707  \n",
       "max          0.810000                25.959379                  3.566404  "
      ]
     },
     "execution_count": 25,
     "metadata": {},
     "output_type": "execute_result"
    }
   ],
   "source": [
    "lr_with_pca = Pipeline([\n",
    "                    ('ss', StandardScaler()),\n",
    "                    ('pca', PCA(random_state = 2022)),\n",
    "                    ('lr', LinearRegression())\n",
    "                ])\n",
    "lr_with_pca_output = lb.fit_and_evaluate_citeseq_models(lr_with_pca, selected_genes, X_train, X_test, Y_train, Y_test, figures = False, pca_viz = False, eval_lr_coefs = False)\n",
    "lr_with_pca_output[0].describe()"
   ]
  },
  {
   "cell_type": "code",
   "execution_count": 26,
   "id": "0aedb6a6-fe74-47a5-b3de-5fb5ae776482",
   "metadata": {},
   "outputs": [
    {
     "data": {
      "text/html": [
       "<div>\n",
       "<style scoped>\n",
       "    .dataframe tbody tr th:only-of-type {\n",
       "        vertical-align: middle;\n",
       "    }\n",
       "\n",
       "    .dataframe tbody tr th {\n",
       "        vertical-align: top;\n",
       "    }\n",
       "\n",
       "    .dataframe thead th {\n",
       "        text-align: right;\n",
       "    }\n",
       "</style>\n",
       "<table border=\"1\" class=\"dataframe\">\n",
       "  <thead>\n",
       "    <tr style=\"text-align: right;\">\n",
       "      <th></th>\n",
       "      <th>Train R-Squared</th>\n",
       "      <th>Train Mean-Squared Error</th>\n",
       "      <th>Train Mean-Absolute Error</th>\n",
       "      <th>Test R-Squared</th>\n",
       "      <th>Test Mean-Squared Error</th>\n",
       "      <th>Test Mean-Absolute Error</th>\n",
       "    </tr>\n",
       "  </thead>\n",
       "  <tbody>\n",
       "    <tr>\n",
       "      <th>CD41</th>\n",
       "      <td>0.81</td>\n",
       "      <td>7.321156</td>\n",
       "      <td>1.801733</td>\n",
       "      <td>0.81</td>\n",
       "      <td>7.542717</td>\n",
       "      <td>1.829246</td>\n",
       "    </tr>\n",
       "    <tr>\n",
       "      <th>CD32</th>\n",
       "      <td>0.68</td>\n",
       "      <td>9.217153</td>\n",
       "      <td>2.151177</td>\n",
       "      <td>0.69</td>\n",
       "      <td>8.731280</td>\n",
       "      <td>2.135230</td>\n",
       "    </tr>\n",
       "    <tr>\n",
       "      <th>CD36</th>\n",
       "      <td>0.67</td>\n",
       "      <td>26.162706</td>\n",
       "      <td>3.098529</td>\n",
       "      <td>0.67</td>\n",
       "      <td>25.959379</td>\n",
       "      <td>3.118735</td>\n",
       "    </tr>\n",
       "    <tr>\n",
       "      <th>CD71</th>\n",
       "      <td>0.65</td>\n",
       "      <td>4.095520</td>\n",
       "      <td>1.478676</td>\n",
       "      <td>0.65</td>\n",
       "      <td>4.006034</td>\n",
       "      <td>1.500753</td>\n",
       "    </tr>\n",
       "    <tr>\n",
       "      <th>CD48</th>\n",
       "      <td>0.63</td>\n",
       "      <td>10.466292</td>\n",
       "      <td>2.370926</td>\n",
       "      <td>0.62</td>\n",
       "      <td>11.460931</td>\n",
       "      <td>2.448249</td>\n",
       "    </tr>\n",
       "  </tbody>\n",
       "</table>\n",
       "</div>"
      ],
      "text/plain": [
       "      Train R-Squared  Train Mean-Squared Error  Train Mean-Absolute Error  \\\n",
       "CD41             0.81                  7.321156                   1.801733   \n",
       "CD32             0.68                  9.217153                   2.151177   \n",
       "CD36             0.67                 26.162706                   3.098529   \n",
       "CD71             0.65                  4.095520                   1.478676   \n",
       "CD48             0.63                 10.466292                   2.370926   \n",
       "\n",
       "      Test R-Squared  Test Mean-Squared Error  Test Mean-Absolute Error  \n",
       "CD41            0.81                 7.542717                  1.829246  \n",
       "CD32            0.69                 8.731280                  2.135230  \n",
       "CD36            0.67                25.959379                  3.118735  \n",
       "CD71            0.65                 4.006034                  1.500753  \n",
       "CD48            0.62                11.460931                  2.448249  "
      ]
     },
     "execution_count": 26,
     "metadata": {},
     "output_type": "execute_result"
    }
   ],
   "source": [
    "lr_with_pca_output[0].sort_values(by = 'Test R-Squared', ascending = False).head()"
   ]
  },
  {
   "cell_type": "markdown",
   "id": "6f556e92-240b-40b6-9eff-429dcbe1512e",
   "metadata": {},
   "source": [
    "#### Linear Regression with PCA used for additional dimension reduction"
   ]
  },
  {
   "cell_type": "code",
   "execution_count": 27,
   "id": "9c331e36-3086-44f7-9e2d-3f7abe17b888",
   "metadata": {},
   "outputs": [
    {
     "name": "stdout",
     "output_type": "stream",
     "text": [
      "0.0% complete\n",
      "10.0% complete\n",
      "20.0% complete\n",
      "30.0% complete\n",
      "40.0% complete\n",
      "50.0% complete\n",
      "60.0% complete\n",
      "70.0% complete\n",
      "80.0% complete\n",
      "90.0% complete\n"
     ]
    },
    {
     "data": {
      "text/html": [
       "<div>\n",
       "<style scoped>\n",
       "    .dataframe tbody tr th:only-of-type {\n",
       "        vertical-align: middle;\n",
       "    }\n",
       "\n",
       "    .dataframe tbody tr th {\n",
       "        vertical-align: top;\n",
       "    }\n",
       "\n",
       "    .dataframe thead th {\n",
       "        text-align: right;\n",
       "    }\n",
       "</style>\n",
       "<table border=\"1\" class=\"dataframe\">\n",
       "  <thead>\n",
       "    <tr style=\"text-align: right;\">\n",
       "      <th></th>\n",
       "      <th>Train R-Squared</th>\n",
       "      <th>Train Mean-Squared Error</th>\n",
       "      <th>Train Mean-Absolute Error</th>\n",
       "      <th>Test R-Squared</th>\n",
       "      <th>Test Mean-Squared Error</th>\n",
       "      <th>Test Mean-Absolute Error</th>\n",
       "    </tr>\n",
       "  </thead>\n",
       "  <tbody>\n",
       "    <tr>\n",
       "      <th>count</th>\n",
       "      <td>140.000000</td>\n",
       "      <td>140.000000</td>\n",
       "      <td>140.000000</td>\n",
       "      <td>140.000000</td>\n",
       "      <td>140.000000</td>\n",
       "      <td>140.000000</td>\n",
       "    </tr>\n",
       "    <tr>\n",
       "      <th>mean</th>\n",
       "      <td>0.213643</td>\n",
       "      <td>2.820696</td>\n",
       "      <td>1.077103</td>\n",
       "      <td>0.213143</td>\n",
       "      <td>2.825226</td>\n",
       "      <td>1.080287</td>\n",
       "    </tr>\n",
       "    <tr>\n",
       "      <th>std</th>\n",
       "      <td>0.186216</td>\n",
       "      <td>4.303564</td>\n",
       "      <td>0.642100</td>\n",
       "      <td>0.188050</td>\n",
       "      <td>4.318351</td>\n",
       "      <td>0.645992</td>\n",
       "    </tr>\n",
       "    <tr>\n",
       "      <th>min</th>\n",
       "      <td>0.000000</td>\n",
       "      <td>0.455171</td>\n",
       "      <td>0.520389</td>\n",
       "      <td>0.000000</td>\n",
       "      <td>0.454496</td>\n",
       "      <td>0.523600</td>\n",
       "    </tr>\n",
       "    <tr>\n",
       "      <th>25%</th>\n",
       "      <td>0.050000</td>\n",
       "      <td>0.743746</td>\n",
       "      <td>0.680100</td>\n",
       "      <td>0.047500</td>\n",
       "      <td>0.742162</td>\n",
       "      <td>0.684699</td>\n",
       "    </tr>\n",
       "    <tr>\n",
       "      <th>50%</th>\n",
       "      <td>0.155000</td>\n",
       "      <td>1.069571</td>\n",
       "      <td>0.788502</td>\n",
       "      <td>0.160000</td>\n",
       "      <td>1.045398</td>\n",
       "      <td>0.793383</td>\n",
       "    </tr>\n",
       "    <tr>\n",
       "      <th>75%</th>\n",
       "      <td>0.362500</td>\n",
       "      <td>2.774660</td>\n",
       "      <td>1.243681</td>\n",
       "      <td>0.352500</td>\n",
       "      <td>2.798484</td>\n",
       "      <td>1.243200</td>\n",
       "    </tr>\n",
       "    <tr>\n",
       "      <th>max</th>\n",
       "      <td>0.800000</td>\n",
       "      <td>32.067917</td>\n",
       "      <td>3.631608</td>\n",
       "      <td>0.800000</td>\n",
       "      <td>31.332642</td>\n",
       "      <td>3.681198</td>\n",
       "    </tr>\n",
       "  </tbody>\n",
       "</table>\n",
       "</div>"
      ],
      "text/plain": [
       "       Train R-Squared  Train Mean-Squared Error  Train Mean-Absolute Error  \\\n",
       "count       140.000000                140.000000                 140.000000   \n",
       "mean          0.213643                  2.820696                   1.077103   \n",
       "std           0.186216                  4.303564                   0.642100   \n",
       "min           0.000000                  0.455171                   0.520389   \n",
       "25%           0.050000                  0.743746                   0.680100   \n",
       "50%           0.155000                  1.069571                   0.788502   \n",
       "75%           0.362500                  2.774660                   1.243681   \n",
       "max           0.800000                 32.067917                   3.631608   \n",
       "\n",
       "       Test R-Squared  Test Mean-Squared Error  Test Mean-Absolute Error  \n",
       "count      140.000000               140.000000                140.000000  \n",
       "mean         0.213143                 2.825226                  1.080287  \n",
       "std          0.188050                 4.318351                  0.645992  \n",
       "min          0.000000                 0.454496                  0.523600  \n",
       "25%          0.047500                 0.742162                  0.684699  \n",
       "50%          0.160000                 1.045398                  0.793383  \n",
       "75%          0.352500                 2.798484                  1.243200  \n",
       "max          0.800000                31.332642                  3.681198  "
      ]
     },
     "execution_count": 27,
     "metadata": {},
     "output_type": "execute_result"
    }
   ],
   "source": [
    "lr_with_pca_dim_reduce = Pipeline([\n",
    "                    ('ss', StandardScaler()),\n",
    "                    ('pca', PCA(n_components = 10, random_state = 2022)),\n",
    "                    ('lr', LinearRegression())\n",
    "                ])\n",
    "\n",
    "lr_with_pca_dim_reduce_output = lb.fit_and_evaluate_citeseq_models(lr_with_pca_dim_reduce, selected_genes,\n",
    "                                                                   X_train, X_test, Y_train, Y_test,\n",
    "                                                                   figures = False, pca_viz = False, eval_lr_coefs = False)\n",
    "lr_with_pca_dim_reduce_output[0].describe()"
   ]
  },
  {
   "cell_type": "code",
   "execution_count": 28,
   "id": "d80e27a6-03d5-431c-abd4-2e64de41a9fb",
   "metadata": {},
   "outputs": [
    {
     "data": {
      "text/html": [
       "<div>\n",
       "<style scoped>\n",
       "    .dataframe tbody tr th:only-of-type {\n",
       "        vertical-align: middle;\n",
       "    }\n",
       "\n",
       "    .dataframe tbody tr th {\n",
       "        vertical-align: top;\n",
       "    }\n",
       "\n",
       "    .dataframe thead th {\n",
       "        text-align: right;\n",
       "    }\n",
       "</style>\n",
       "<table border=\"1\" class=\"dataframe\">\n",
       "  <thead>\n",
       "    <tr style=\"text-align: right;\">\n",
       "      <th></th>\n",
       "      <th>Train R-Squared</th>\n",
       "      <th>Train Mean-Squared Error</th>\n",
       "      <th>Train Mean-Absolute Error</th>\n",
       "      <th>Test R-Squared</th>\n",
       "      <th>Test Mean-Squared Error</th>\n",
       "      <th>Test Mean-Absolute Error</th>\n",
       "    </tr>\n",
       "  </thead>\n",
       "  <tbody>\n",
       "    <tr>\n",
       "      <th>CD41</th>\n",
       "      <td>0.81</td>\n",
       "      <td>7.321157</td>\n",
       "      <td>1.801733</td>\n",
       "      <td>0.81</td>\n",
       "      <td>7.542717</td>\n",
       "      <td>1.829246</td>\n",
       "    </tr>\n",
       "    <tr>\n",
       "      <th>CD32</th>\n",
       "      <td>0.68</td>\n",
       "      <td>9.217151</td>\n",
       "      <td>2.151177</td>\n",
       "      <td>0.69</td>\n",
       "      <td>8.731278</td>\n",
       "      <td>2.135230</td>\n",
       "    </tr>\n",
       "    <tr>\n",
       "      <th>CD36</th>\n",
       "      <td>0.67</td>\n",
       "      <td>26.162706</td>\n",
       "      <td>3.098529</td>\n",
       "      <td>0.67</td>\n",
       "      <td>25.959379</td>\n",
       "      <td>3.118734</td>\n",
       "    </tr>\n",
       "    <tr>\n",
       "      <th>CD71</th>\n",
       "      <td>0.65</td>\n",
       "      <td>4.095520</td>\n",
       "      <td>1.478676</td>\n",
       "      <td>0.65</td>\n",
       "      <td>4.006034</td>\n",
       "      <td>1.500753</td>\n",
       "    </tr>\n",
       "    <tr>\n",
       "      <th>CD48</th>\n",
       "      <td>0.63</td>\n",
       "      <td>10.466292</td>\n",
       "      <td>2.370926</td>\n",
       "      <td>0.62</td>\n",
       "      <td>11.460934</td>\n",
       "      <td>2.448249</td>\n",
       "    </tr>\n",
       "  </tbody>\n",
       "</table>\n",
       "</div>"
      ],
      "text/plain": [
       "      Train R-Squared  Train Mean-Squared Error  Train Mean-Absolute Error  \\\n",
       "CD41             0.81                  7.321157                   1.801733   \n",
       "CD32             0.68                  9.217151                   2.151177   \n",
       "CD36             0.67                 26.162706                   3.098529   \n",
       "CD71             0.65                  4.095520                   1.478676   \n",
       "CD48             0.63                 10.466292                   2.370926   \n",
       "\n",
       "      Test R-Squared  Test Mean-Squared Error  Test Mean-Absolute Error  \n",
       "CD41            0.81                 7.542717                  1.829246  \n",
       "CD32            0.69                 8.731278                  2.135230  \n",
       "CD36            0.67                25.959379                  3.118734  \n",
       "CD71            0.65                 4.006034                  1.500753  \n",
       "CD48            0.62                11.460934                  2.448249  "
      ]
     },
     "execution_count": 28,
     "metadata": {},
     "output_type": "execute_result"
    }
   ],
   "source": [
    "lr_output[0].sort_values(by = 'Test R-Squared', ascending = False).head()"
   ]
  },
  {
   "cell_type": "markdown",
   "id": "e2d5a550-ebc9-4d82-93a6-adf7aa52a803",
   "metadata": {},
   "source": [
    "## Evaluate Models"
   ]
  },
  {
   "cell_type": "markdown",
   "id": "03a616e7-5344-43a1-983f-317993586b0c",
   "metadata": {},
   "source": [
    "### Compare to Baseline"
   ]
  },
  {
   "cell_type": "code",
   "execution_count": null,
   "id": "c2242e12-d869-4cac-b065-ac6cc69015dc",
   "metadata": {},
   "outputs": [],
   "source": []
  },
  {
   "cell_type": "markdown",
   "id": "74b96c18-4c92-4502-ae0e-e1b762df5d7c",
   "metadata": {},
   "source": [
    "### Check Residuals"
   ]
  },
  {
   "cell_type": "markdown",
   "id": "f4ec2c83-4f04-476f-be49-217e4e04fce2",
   "metadata": {},
   "source": [
    "#### Linear Regression Models"
   ]
  },
  {
   "cell_type": "code",
   "execution_count": null,
   "id": "4d13add0-e37f-41cd-8879-7e8d25b99a8f",
   "metadata": {},
   "outputs": [],
   "source": []
  },
  {
   "cell_type": "markdown",
   "id": "5e7ef689-d47a-4187-95a1-98a36317f2d8",
   "metadata": {},
   "source": [
    "#### Linear Regression Models with PCA"
   ]
  },
  {
   "cell_type": "code",
   "execution_count": null,
   "id": "7a0977af-2d5f-44f5-8bef-9903d8495399",
   "metadata": {},
   "outputs": [],
   "source": []
  },
  {
   "cell_type": "markdown",
   "id": "f0475c8f-7f5a-48df-b616-f2369a60bc8b",
   "metadata": {},
   "source": [
    "## Conclusions"
   ]
  },
  {
   "cell_type": "markdown",
   "id": "e7830356-8b2e-4beb-8fb4-8d53eba7ce95",
   "metadata": {},
   "source": []
  }
 ],
 "metadata": {
  "kernelspec": {
   "display_name": "Python 3",
   "language": "python",
   "name": "python3"
  },
  "language_info": {
   "codemirror_mode": {
    "name": "ipython",
    "version": 3
   },
   "file_extension": ".py",
   "mimetype": "text/x-python",
   "name": "python",
   "nbconvert_exporter": "python",
   "pygments_lexer": "ipython3",
   "version": "3.6.13"
  }
 },
 "nbformat": 4,
 "nbformat_minor": 5
}
