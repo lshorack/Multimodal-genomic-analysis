{
 "cells": [
  {
   "cell_type": "markdown",
   "metadata": {
    "id": "pQ7VZF5AwiAD"
   },
   "source": [
    "# Create train-test split to use across notebooks"
   ]
  },
  {
   "cell_type": "markdown",
   "metadata": {},
   "source": [
    "Note: When I built this notebook, I planned to focus on Day Four. This later changed, and I now focus on Day 2."
   ]
  },
  {
   "cell_type": "markdown",
   "metadata": {
    "id": "mdkzOhnbBIe1"
   },
   "source": [
    "## Imports"
   ]
  },
  {
   "cell_type": "code",
   "execution_count": null,
   "metadata": {
    "id": "44KU5AVJwhtR"
   },
   "outputs": [],
   "source": [
    "import pandas as pd\n",
    "from sklearn.model_selection import train_test_split"
   ]
  },
  {
   "cell_type": "markdown",
   "metadata": {
    "id": "l3bRwYtWBM3m"
   },
   "source": [
    "## Read in the Data"
   ]
  },
  {
   "cell_type": "code",
   "execution_count": null,
   "metadata": {
    "id": "qHSeGu9CwhpF"
   },
   "outputs": [],
   "source": [
    "genes = pd.read_hdf('./data/train_cite_inputs.h5')\n",
    "proteins = pd.read_hdf('./data/train_cite_targets.h5')\n",
    "meta = pd.read_csv('./data/metadata.csv')"
   ]
  },
  {
   "cell_type": "code",
   "execution_count": null,
   "metadata": {
    "colab": {
     "base_uri": "https://localhost:8080/"
    },
    "executionInfo": {
     "elapsed": 20,
     "status": "ok",
     "timestamp": 1665602010545,
     "user": {
      "displayName": "Landon Shorack",
      "userId": "08420491670803319518"
     },
     "user_tz": 420
    },
    "id": "tWFfUoULYnu-",
    "outputId": "f4ae6d11-7ba8-4391-f439-773300b0665e"
   },
   "outputs": [
    {
     "data": {
      "text/plain": [
       "((70988, 22050), (70988, 140), (281528, 5))"
      ]
     },
     "execution_count": 5,
     "metadata": {},
     "output_type": "execute_result"
    }
   ],
   "source": [
    "genes.shape, proteins.shape, meta.shape"
   ]
  },
  {
   "cell_type": "code",
   "execution_count": null,
   "metadata": {
    "id": "M8XdmMwhZdq5"
   },
   "outputs": [],
   "source": [
    "meta.set_index('cell_id', inplace = True)"
   ]
  },
  {
   "cell_type": "code",
   "execution_count": null,
   "metadata": {
    "id": "0yEQ8ABzZYSs"
   },
   "outputs": [],
   "source": [
    "proteins = meta.merge(proteins, how = 'right', left_index = True, right_index = True)\n",
    "del meta"
   ]
  },
  {
   "cell_type": "code",
   "execution_count": null,
   "metadata": {
    "colab": {
     "base_uri": "https://localhost:8080/"
    },
    "executionInfo": {
     "elapsed": 17,
     "status": "ok",
     "timestamp": 1665602010546,
     "user": {
      "displayName": "Landon Shorack",
      "userId": "08420491670803319518"
     },
     "user_tz": 420
    },
    "id": "mBxSBBwxamzy",
    "outputId": "725f9a0a-bb53-4127-f381-0d44b9c4d48c"
   },
   "outputs": [
    {
     "data": {
      "text/plain": [
       "array([0])"
      ]
     },
     "execution_count": 8,
     "metadata": {},
     "output_type": "execute_result"
    }
   ],
   "source": [
    "proteins.isnull().sum().unique()"
   ]
  },
  {
   "cell_type": "markdown",
   "metadata": {
    "id": "EvLcFjV-ascj"
   },
   "source": [
    "The merge worked correctly; no data from proteins was lost."
   ]
  },
  {
   "cell_type": "markdown",
   "metadata": {
    "id": "OTjcncQaUv5H"
   },
   "source": [
    "## Apply Train Test split\n",
    "I will use this split across all models."
   ]
  },
  {
   "cell_type": "markdown",
   "metadata": {
    "id": "9tzdS7vtY6pv"
   },
   "source": [
    "In other notebooks to reduce memory consumption I will only model only cells from day four. So it is important the the train test split be stratified on this."
   ]
  },
  {
   "cell_type": "code",
   "execution_count": null,
   "metadata": {
    "id": "Uw1vpTk7bInc"
   },
   "outputs": [],
   "source": [
    "proteins['to_stratify'] = [1 if day == 4 else 0 for day in proteins['day']]"
   ]
  },
  {
   "cell_type": "code",
   "execution_count": null,
   "metadata": {
    "colab": {
     "base_uri": "https://localhost:8080/"
    },
    "executionInfo": {
     "elapsed": 375,
     "status": "ok",
     "timestamp": 1665602010907,
     "user": {
      "displayName": "Landon Shorack",
      "userId": "08420491670803319518"
     },
     "user_tz": 420
    },
    "id": "PmjHnzExbfok",
    "outputId": "db3c3a18-fef9-4670-8233-ec4a1edaa031"
   },
   "outputs": [
    {
     "data": {
      "text/plain": [
       "True"
      ]
     },
     "execution_count": 10,
     "metadata": {},
     "output_type": "execute_result"
    }
   ],
   "source": [
    "proteins['day'].value_counts()[4] == proteins['to_stratify'].sum()"
   ]
  },
  {
   "cell_type": "markdown",
   "metadata": {
    "id": "bOVVFWCQbvoG"
   },
   "source": [
    "The dummification of day four worked correctly."
   ]
  },
  {
   "cell_type": "code",
   "execution_count": null,
   "metadata": {
    "id": "8LcsQEsXVCyj"
   },
   "outputs": [],
   "source": [
    "X = genes # The set of all genes used as predictors.\n",
    "Y = proteins # The set of all target proteins.\n",
    "             # (There are 140 different protein targets.)\n",
    "\n",
    "\n",
    "X_train, X_test, Y_train, Y_test = train_test_split(X, Y, random_state = 2022, train_size = 0.8, stratify = Y['to_stratify'])"
   ]
  },
  {
   "cell_type": "code",
   "execution_count": null,
   "metadata": {
    "colab": {
     "base_uri": "https://localhost:8080/"
    },
    "executionInfo": {
     "elapsed": 12,
     "status": "ok",
     "timestamp": 1665602018493,
     "user": {
      "displayName": "Landon Shorack",
      "userId": "08420491670803319518"
     },
     "user_tz": 420
    },
    "id": "ElC_CKwrb-Qq",
    "outputId": "7cb0c426-d5ca-4615-f2f8-442a976b7a1d"
   },
   "outputs": [
    {
     "data": {
      "text/plain": [
       "array([0.8, 0.2])"
      ]
     },
     "execution_count": 12,
     "metadata": {},
     "output_type": "execute_result"
    }
   ],
   "source": [
    "(Y_train['to_stratify'].sum(), Y_test['to_stratify'].sum()) / proteins['to_stratify'].sum()"
   ]
  },
  {
   "cell_type": "markdown",
   "metadata": {
    "id": "8UPKGwxycQlv"
   },
   "source": [
    "The stratification also worked as expected."
   ]
  },
  {
   "cell_type": "code",
   "execution_count": null,
   "metadata": {
    "id": "5o5N-XIec2s-"
   },
   "outputs": [],
   "source": [
    "# To preserve memory I will delete the DataFrames that contain all the data.\n",
    "del genes\n",
    "del proteins\n",
    "del X\n",
    "del Y"
   ]
  },
  {
   "cell_type": "markdown",
   "metadata": {
    "id": "UvfzpVKbXvs2"
   },
   "source": [
    "### Check that the proteins are reasonably stratified without special intervention."
   ]
  },
  {
   "cell_type": "code",
   "execution_count": null,
   "metadata": {
    "id": "6xSH6YBjdjyL"
   },
   "outputs": [],
   "source": [
    "mean_diff = []\n",
    "std_diff = []\n",
    "\n",
    "for gene in X_train.columns:\n",
    "    gene_mean_diff = X_train[gene].mean() - X_test[gene].mean()\n",
    "    mean_diff.append(gene_mean_diff)\n",
    "\n",
    "    gene_std_diff = X_train[gene].std() - X_test[gene].std()\n",
    "    std_diff.append(gene_std_diff)\n",
    "\n",
    "stratify_check_df = pd.DataFrame({'difference_in_mean' : mean_diff, \n",
    "                                  'difference_in_standard_deviation': std_diff}, \n",
    "                                 index = X_train.columns)"
   ]
  },
  {
   "cell_type": "code",
   "execution_count": null,
   "metadata": {
    "colab": {
     "base_uri": "https://localhost:8080/",
     "height": 300
    },
    "executionInfo": {
     "elapsed": 13,
     "status": "ok",
     "timestamp": 1665602050407,
     "user": {
      "displayName": "Landon Shorack",
      "userId": "08420491670803319518"
     },
     "user_tz": 420
    },
    "id": "AhztU6rMdjvJ",
    "outputId": "63567a27-96a9-46aa-a35f-d4e44a252bb4"
   },
   "outputs": [
    {
     "data": {
      "text/html": [
       "\n",
       "  <div id=\"df-b04c2f17-4ddd-4de4-a9ee-fe383af07619\">\n",
       "    <div class=\"colab-df-container\">\n",
       "      <div>\n",
       "<style scoped>\n",
       "    .dataframe tbody tr th:only-of-type {\n",
       "        vertical-align: middle;\n",
       "    }\n",
       "\n",
       "    .dataframe tbody tr th {\n",
       "        vertical-align: top;\n",
       "    }\n",
       "\n",
       "    .dataframe thead th {\n",
       "        text-align: right;\n",
       "    }\n",
       "</style>\n",
       "<table border=\"1\" class=\"dataframe\">\n",
       "  <thead>\n",
       "    <tr style=\"text-align: right;\">\n",
       "      <th></th>\n",
       "      <th>difference_in_mean</th>\n",
       "      <th>difference_in_standard_deviation</th>\n",
       "    </tr>\n",
       "  </thead>\n",
       "  <tbody>\n",
       "    <tr>\n",
       "      <th>count</th>\n",
       "      <td>22050.000000</td>\n",
       "      <td>22050.000000</td>\n",
       "    </tr>\n",
       "    <tr>\n",
       "      <th>mean</th>\n",
       "      <td>0.007373</td>\n",
       "      <td>0.010697</td>\n",
       "    </tr>\n",
       "    <tr>\n",
       "      <th>std</th>\n",
       "      <td>0.008742</td>\n",
       "      <td>0.009584</td>\n",
       "    </tr>\n",
       "    <tr>\n",
       "      <th>min</th>\n",
       "      <td>0.000000</td>\n",
       "      <td>0.000000</td>\n",
       "    </tr>\n",
       "    <tr>\n",
       "      <th>25%</th>\n",
       "      <td>0.001257</td>\n",
       "      <td>0.003329</td>\n",
       "    </tr>\n",
       "    <tr>\n",
       "      <th>50%</th>\n",
       "      <td>0.003872</td>\n",
       "      <td>0.007971</td>\n",
       "    </tr>\n",
       "    <tr>\n",
       "      <th>75%</th>\n",
       "      <td>0.010494</td>\n",
       "      <td>0.015691</td>\n",
       "    </tr>\n",
       "    <tr>\n",
       "      <th>max</th>\n",
       "      <td>0.080008</td>\n",
       "      <td>0.080533</td>\n",
       "    </tr>\n",
       "  </tbody>\n",
       "</table>\n",
       "</div>\n",
       "      <button class=\"colab-df-convert\" onclick=\"convertToInteractive('df-b04c2f17-4ddd-4de4-a9ee-fe383af07619')\"\n",
       "              title=\"Convert this dataframe to an interactive table.\"\n",
       "              style=\"display:none;\">\n",
       "        \n",
       "  <svg xmlns=\"http://www.w3.org/2000/svg\" height=\"24px\"viewBox=\"0 0 24 24\"\n",
       "       width=\"24px\">\n",
       "    <path d=\"M0 0h24v24H0V0z\" fill=\"none\"/>\n",
       "    <path d=\"M18.56 5.44l.94 2.06.94-2.06 2.06-.94-2.06-.94-.94-2.06-.94 2.06-2.06.94zm-11 1L8.5 8.5l.94-2.06 2.06-.94-2.06-.94L8.5 2.5l-.94 2.06-2.06.94zm10 10l.94 2.06.94-2.06 2.06-.94-2.06-.94-.94-2.06-.94 2.06-2.06.94z\"/><path d=\"M17.41 7.96l-1.37-1.37c-.4-.4-.92-.59-1.43-.59-.52 0-1.04.2-1.43.59L10.3 9.45l-7.72 7.72c-.78.78-.78 2.05 0 2.83L4 21.41c.39.39.9.59 1.41.59.51 0 1.02-.2 1.41-.59l7.78-7.78 2.81-2.81c.8-.78.8-2.07 0-2.86zM5.41 20L4 18.59l7.72-7.72 1.47 1.35L5.41 20z\"/>\n",
       "  </svg>\n",
       "      </button>\n",
       "      \n",
       "  <style>\n",
       "    .colab-df-container {\n",
       "      display:flex;\n",
       "      flex-wrap:wrap;\n",
       "      gap: 12px;\n",
       "    }\n",
       "\n",
       "    .colab-df-convert {\n",
       "      background-color: #E8F0FE;\n",
       "      border: none;\n",
       "      border-radius: 50%;\n",
       "      cursor: pointer;\n",
       "      display: none;\n",
       "      fill: #1967D2;\n",
       "      height: 32px;\n",
       "      padding: 0 0 0 0;\n",
       "      width: 32px;\n",
       "    }\n",
       "\n",
       "    .colab-df-convert:hover {\n",
       "      background-color: #E2EBFA;\n",
       "      box-shadow: 0px 1px 2px rgba(60, 64, 67, 0.3), 0px 1px 3px 1px rgba(60, 64, 67, 0.15);\n",
       "      fill: #174EA6;\n",
       "    }\n",
       "\n",
       "    [theme=dark] .colab-df-convert {\n",
       "      background-color: #3B4455;\n",
       "      fill: #D2E3FC;\n",
       "    }\n",
       "\n",
       "    [theme=dark] .colab-df-convert:hover {\n",
       "      background-color: #434B5C;\n",
       "      box-shadow: 0px 1px 3px 1px rgba(0, 0, 0, 0.15);\n",
       "      filter: drop-shadow(0px 1px 2px rgba(0, 0, 0, 0.3));\n",
       "      fill: #FFFFFF;\n",
       "    }\n",
       "  </style>\n",
       "\n",
       "      <script>\n",
       "        const buttonEl =\n",
       "          document.querySelector('#df-b04c2f17-4ddd-4de4-a9ee-fe383af07619 button.colab-df-convert');\n",
       "        buttonEl.style.display =\n",
       "          google.colab.kernel.accessAllowed ? 'block' : 'none';\n",
       "\n",
       "        async function convertToInteractive(key) {\n",
       "          const element = document.querySelector('#df-b04c2f17-4ddd-4de4-a9ee-fe383af07619');\n",
       "          const dataTable =\n",
       "            await google.colab.kernel.invokeFunction('convertToInteractive',\n",
       "                                                     [key], {});\n",
       "          if (!dataTable) return;\n",
       "\n",
       "          const docLinkHtml = 'Like what you see? Visit the ' +\n",
       "            '<a target=\"_blank\" href=https://colab.research.google.com/notebooks/data_table.ipynb>data table notebook</a>'\n",
       "            + ' to learn more about interactive tables.';\n",
       "          element.innerHTML = '';\n",
       "          dataTable['output_type'] = 'display_data';\n",
       "          await google.colab.output.renderOutput(dataTable, element);\n",
       "          const docLink = document.createElement('div');\n",
       "          docLink.innerHTML = docLinkHtml;\n",
       "          element.appendChild(docLink);\n",
       "        }\n",
       "      </script>\n",
       "    </div>\n",
       "  </div>\n",
       "  "
      ],
      "text/plain": [
       "       difference_in_mean  difference_in_standard_deviation\n",
       "count        22050.000000                      22050.000000\n",
       "mean             0.007373                          0.010697\n",
       "std              0.008742                          0.009584\n",
       "min              0.000000                          0.000000\n",
       "25%              0.001257                          0.003329\n",
       "50%              0.003872                          0.007971\n",
       "75%              0.010494                          0.015691\n",
       "max              0.080008                          0.080533"
      ]
     },
     "execution_count": 15,
     "metadata": {},
     "output_type": "execute_result"
    }
   ],
   "source": [
    "stratify_check_df.abs().describe()"
   ]
  },
  {
   "cell_type": "markdown",
   "metadata": {
    "id": "gF44dvqrhGOt"
   },
   "source": [
    "This is a distribution of the difference of the means and standard deviations between the each predictor column as compared between train and test.\n",
    "\n",
    "The differences are all fairly small which shows that even without any oversight on the stratification the train test split occured reasonably anyway.\n",
    "\n",
    "I will preserve this to check during future modeling to see if this turns into an issue in such a case."
   ]
  },
  {
   "cell_type": "code",
   "execution_count": null,
   "metadata": {
    "id": "HbonTxAFdjsk"
   },
   "outputs": [],
   "source": [
    "stratify_check_df.to_csv('./train_test_split/stratify_check.csv')"
   ]
  },
  {
   "cell_type": "markdown",
   "metadata": {
    "id": "2R5KHvmFW8CA"
   },
   "source": [
    "### Save this split for future usage"
   ]
  },
  {
   "cell_type": "code",
   "execution_count": null,
   "metadata": {
    "id": "8WJdWIHzVC1I"
   },
   "outputs": [],
   "source": [
    "X_train.to_hdf('./train_test_split/X_train_cite_seq.h5', index = False, key = 'df', mode = 'w')\n",
    "X_test.to_hdf('./train_test_split/X_test_cite_seq.h5', index = False, key = 'df', mode = 'w')\n",
    "Y_train.to_hdf('./train_test_split/Y_train_cite_seq.h5', index = False, key = 'df', mode = 'w')\n",
    "Y_test.to_hdf('./train_test_split/Y_test_cite_seq.h5', index = False, key = 'df', mode = 'w')"
   ]
  },
  {
   "cell_type": "code",
   "execution_count": null,
   "metadata": {
    "colab": {
     "base_uri": "https://localhost:8080/"
    },
    "executionInfo": {
     "elapsed": 347,
     "status": "ok",
     "timestamp": 1665602116794,
     "user": {
      "displayName": "Landon Shorack",
      "userId": "08420491670803319518"
     },
     "user_tz": 420
    },
    "id": "qhXmB8AED0RC",
    "outputId": "dd5c632d-0a73-4810-c17f-4cca18c4bd28"
   },
   "outputs": [
    {
     "data": {
      "text/plain": [
       "((56790, 22050), (14198, 22050), (56790, 145), (14198, 145))"
      ]
     },
     "execution_count": 18,
     "metadata": {},
     "output_type": "execute_result"
    }
   ],
   "source": [
    "X_train.shape, X_test.shape, Y_train.shape, Y_test.shape"
   ]
  }
 ],
 "metadata": {
  "colab": {
   "authorship_tag": "ABX9TyMShT6vGGd3G3NLy2omLDwV",
   "collapsed_sections": [],
   "machine_shape": "hm",
   "provenance": []
  },
  "kernelspec": {
   "display_name": "Python 3",
   "language": "python",
   "name": "python3"
  },
  "language_info": {
   "codemirror_mode": {
    "name": "ipython",
    "version": 3
   },
   "file_extension": ".py",
   "mimetype": "text/x-python",
   "name": "python",
   "nbconvert_exporter": "python",
   "pygments_lexer": "ipython3",
   "version": "3.6.13"
  }
 },
 "nbformat": 4,
 "nbformat_minor": 4
}
